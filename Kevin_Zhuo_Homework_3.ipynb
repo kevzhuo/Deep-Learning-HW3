{
  "nbformat": 4,
  "nbformat_minor": 0,
  "metadata": {
    "anaconda-cloud": {},
    "kernelspec": {
      "display_name": "Python 3",
      "language": "python",
      "name": "python3"
    },
    "language_info": {
      "codemirror_mode": {
        "name": "ipython",
        "version": 3
      },
      "file_extension": ".py",
      "mimetype": "text/x-python",
      "name": "python",
      "nbconvert_exporter": "python",
      "pygments_lexer": "ipython3",
      "version": "3.6.6"
    },
    "colab": {
      "provenance": [],
      "include_colab_link": true
    },
    "accelerator": "GPU"
  },
  "cells": [
    {
      "cell_type": "markdown",
      "metadata": {
        "id": "view-in-github",
        "colab_type": "text"
      },
      "source": [
        "<a href=\"https://colab.research.google.com/github/kevzhuo/Deep-Learning-HW3/blob/main/Kevin_Zhuo_Homework_3.ipynb\" target=\"_parent\"><img src=\"https://colab.research.google.com/assets/colab-badge.svg\" alt=\"Open In Colab\"/></a>"
      ]
    },
    {
      "cell_type": "markdown",
      "metadata": {
        "id": "cW-EyI5Lxpqi"
      },
      "source": [
        "# Copyright\n",
        "\n",
        "<PRE>\n",
        "Copyright (c) 2024 Bálint Gyires-Tóth - All Rights Reserved\n",
        "You may use and modify this code for research and development purpuses.\n",
        "Using this code for educational purposes (self-paced or instructor led) without the permission of the author is prohibited.\n",
        "</PRE>"
      ]
    },
    {
      "cell_type": "markdown",
      "source": [
        "# Example of data exploration, modeling, regulartion and prediction\n",
        "Our exercise today involves loading a standard dataset using TensorFlow Keras API, exploring the data, building a simple neural network, and evaluating the effects of basic methods (activation functions, regularization, weight initialization, etc.). We then perform predictions on the test set and inspect the results."
      ],
      "metadata": {
        "id": "3EX4cCa4WKJu"
      }
    },
    {
      "cell_type": "markdown",
      "source": [
        "# 1. Data\n",
        "The dataset we will use is the well-known CIFAR10 (Canadian Institute For Advanced Research). Explore the details on the Keras website first: https://keras.io/api/datasets/cifar10/\n",
        "\n",
        "After you explored the basic features of the data, let's load it into the memory and explore the shapes:"
      ],
      "metadata": {
        "id": "yY9fztIeWIKt"
      }
    },
    {
      "cell_type": "code",
      "source": [
        "from tensorflow.keras.datasets import cifar10\n",
        "from tensorflow.keras.utils import to_categorical\n",
        "import numpy as np"
      ],
      "metadata": {
        "id": "giRZKTjzX_7l"
      },
      "execution_count": 1,
      "outputs": []
    },
    {
      "cell_type": "code",
      "source": [
        "(X_train, Y_train), (X_test, Y_test) = cifar10.load_data()"
      ],
      "metadata": {
        "id": "bez7q0eiWQCK"
      },
      "execution_count": 2,
      "outputs": []
    },
    {
      "cell_type": "code",
      "source": [
        "print(X_train.shape)\n",
        "print(X_test.shape)\n",
        "print(Y_train.shape)\n",
        "print(Y_test.shape)"
      ],
      "metadata": {
        "id": "2tJoRq5wXywi",
        "colab": {
          "base_uri": "https://localhost:8080/"
        },
        "outputId": "77baf8ca-bc5f-4388-e9a1-2031427f5cae"
      },
      "execution_count": 3,
      "outputs": [
        {
          "output_type": "stream",
          "name": "stdout",
          "text": [
            "(50000, 32, 32, 3)\n",
            "(10000, 32, 32, 3)\n",
            "(50000, 1)\n",
            "(10000, 1)\n"
          ]
        }
      ]
    },
    {
      "cell_type": "markdown",
      "source": [
        "## 1.1. Exercise\n",
        "Display the first ten images of the training data. Hints:\n",
        "* Axis 0 refers to the separate images, e.g. X_train[0]\n",
        "* You can use the [Matplotlib Pyplot imshow function](https://matplotlib.org/stable/api/_as_gen/matplotlib.pyplot.imshow.html) for displaying the image. Just don't forget to import Plotly first!\n",
        "* A corresponding example, but you have to modify the code for your purpose: https://stackoverflow.com/questions/46615554/how-to-display-multiple-images-in-one-figure-correctly"
      ],
      "metadata": {
        "id": "zTCSGFyDlNvf"
      }
    },
    {
      "cell_type": "code",
      "source": [
        "import matplotlib.pyplot as plt\n",
        "\n",
        "w = 10\n",
        "h = 10\n",
        "fig = plt.figure(figsize=(8, 4))\n",
        "columns = 5\n",
        "rows = 2\n",
        "for i in range(1, columns*rows+1):\n",
        "    fig.add_subplot(rows, columns, i)\n",
        "    img = X_train[i-1]\n",
        "    plt.imshow(img)\n",
        "    plt.axis(\"off\")\n",
        "    plt.title(Y_train[i-1])\n",
        "plt.show()"
      ],
      "metadata": {
        "id": "hIQhHTppmBdO",
        "colab": {
          "base_uri": "https://localhost:8080/",
          "height": 334
        },
        "outputId": "1dba01b2-b352-40c0-988c-290ced87cfac"
      },
      "execution_count": 4,
      "outputs": [
        {
          "output_type": "display_data",
          "data": {
            "text/plain": [
              "<Figure size 800x400 with 10 Axes>"
            ],
            "image/png": "[encoded data removed]"
          },
          "metadata": {}
        }
      ]
    },
    {
      "cell_type": "markdown",
      "source": [
        "Print the corresponding labels of the displayed images from the target variable (Y_train):"
      ],
      "metadata": {
        "id": "FAQkUWlmm-bc"
      }
    },
    {
      "cell_type": "code",
      "source": [
        "dict = {0: \"airplane\", 1: \"automobile\", 2: \"bird\", 3: \"cat\", 4: \"deer\", 5: \"dog\", 6: \"frog\", 7: \"horse\", 8: \"ship\", 9: \"truck\"}\n",
        "for i in range(10):\n",
        "  print(\"Image \" + str(i) + \" = \" + str(np.argmax(Y_train[i])) + \" (\" + dict[np.argmax(Y_train[i])] + \")\")"
      ],
      "metadata": {
        "id": "AkOrWzghnJ78",
        "colab": {
          "base_uri": "https://localhost:8080/"
        },
        "outputId": "32993865-26f0-4479-9cac-b7762e272208"
      },
      "execution_count": 34,
      "outputs": [
        {
          "output_type": "stream",
          "name": "stdout",
          "text": [
            "Image 0 = 6 (frog)\n",
            "Image 1 = 9 (truck)\n",
            "Image 2 = 9 (truck)\n",
            "Image 3 = 4 (deer)\n",
            "Image 4 = 1 (automobile)\n",
            "Image 5 = 1 (automobile)\n",
            "Image 6 = 2 (bird)\n",
            "Image 7 = 7 (horse)\n",
            "Image 8 = 8 (ship)\n",
            "Image 9 = 3 (cat)\n"
          ]
        }
      ]
    },
    {
      "cell_type": "markdown",
      "source": [
        "## 1.2. Exercise\n",
        "We will train a Multi-Layer Perceptron (MLP), which requires a 2 dimensional input: 0th axis refers to the datapoints (i.e. images), the 1th dimens to the input. As images are 3 dimensional (width, height, color channels), you have to reshape the images into vectors. We also call this flattening.\n",
        "\n",
        "In order to do so, calculate the size of the equivalent 1D vector of the image:"
      ],
      "metadata": {
        "id": "VX24g5FstsRU"
      }
    },
    {
      "cell_type": "code",
      "source": [
        "flattened_dim = X_train[0].shape[0] * X_train[0].shape[1] * X_train[0].shape[2]\n",
        "print(flattened_dim)"
      ],
      "metadata": {
        "id": "hdoMyxHzuXZG",
        "colab": {
          "base_uri": "https://localhost:8080/"
        },
        "outputId": "08866671-0295-44f0-a8a6-d445eeff7227"
      },
      "execution_count": 6,
      "outputs": [
        {
          "output_type": "stream",
          "name": "stdout",
          "text": [
            "3072\n"
          ]
        }
      ]
    },
    {
      "cell_type": "markdown",
      "source": [
        "After you calculated it, we can reshape the images, and covert the integer arrays into float arrays -- which are needed for the neural networks as input. Hint:\n",
        "* in the [reshape() function of Numpy](https://www.w3schools.com/python/numpy/numpy_array_reshape.asp) you can use -1 for one axis, to automatically calculate that value."
      ],
      "metadata": {
        "id": "WbqXJUSFubeC"
      }
    },
    {
      "cell_type": "code",
      "source": [
        "# reshape 3D tensors to 2D tensors\n",
        "X_train = X_train.reshape(X_train.shape[0], -1)\n",
        "X_test = X_test.reshape(X_test.shape[0], -1)\n",
        "\n",
        "# it is in int8 format, the neural network requires float32\n",
        "X_train = X_train.astype(\"float32\")\n",
        "X_test = X_test.astype(\"float32\")"
      ],
      "metadata": {
        "id": "vukOcBM0XzSj"
      },
      "execution_count": 7,
      "outputs": []
    },
    {
      "cell_type": "markdown",
      "source": [
        "## 1.3. Exercise\n",
        "As the next step, let's split the training data into training and validation data. 80% of the original training data should be the final training data, and 20% the validation.\n",
        "You should use Numpy indexing to select the first 80% of X_train as final X_train, and the last 20% as X_valid. Hints:\n",
        "* https://datascienceparichay.com/article/numpy-array-first-n-rows/\n",
        "* https://datascienceparichay.com/article/numpy-array-last-n-rows/"
      ],
      "metadata": {
        "id": "DO79AdIdvVfD"
      }
    },
    {
      "cell_type": "code",
      "source": [
        "train_ratio  = 0.8\n",
        "train_length = len(X_train) # length of the training data\n",
        "train_split  = int(train_ratio * train_length) # where to split the training and validation data\n",
        "X_valid, Y_valid = X_train[train_split:], Y_train[train_split:]\n",
        "X_train, Y_train = X_train[:train_split], Y_train[:train_split]"
      ],
      "metadata": {
        "id": "mRwuWxxIxLgN"
      },
      "execution_count": 8,
      "outputs": []
    },
    {
      "cell_type": "markdown",
      "source": [
        "## 1.4. Exercise\n",
        "As the last step of input data preparation, the data should be standardized. Calculate the mean and variance of the training data (elementvise -- so for each value of the flattened image you should get a mean and variance for the training data along 0th axis). Hint:\n",
        "* https://stackoverflow.com/questions/70626231/how-to-calculate-mean-variance-standard-deviation-per-index-of-array"
      ],
      "metadata": {
        "id": "z05y_QWDxWER"
      }
    },
    {
      "cell_type": "code",
      "source": [
        "mean = np.mean(X_train, axis = 0)\n",
        "std  = np.std(X_train, axis = 0)"
      ],
      "metadata": {
        "id": "TSZbvWCBx8Ea"
      },
      "execution_count": 9,
      "outputs": []
    },
    {
      "cell_type": "markdown",
      "source": [
        "Next, use the resulting values to standardize the training, validation and test data by substracting the mean and dividing the result with the standard deviation."
      ],
      "metadata": {
        "id": "6WRHKkkjyN1S"
      }
    },
    {
      "cell_type": "code",
      "source": [
        "X_train = (X_train - mean)/std\n",
        "X_valid = (X_valid - mean)/std\n",
        "X_test  = (X_test - mean)/std"
      ],
      "metadata": {
        "id": "2ESLP1EIyB2J"
      },
      "execution_count": 10,
      "outputs": []
    },
    {
      "cell_type": "markdown",
      "source": [
        "## 1.5. Exercise\n",
        "And as the last step, convert the dense representation of the classes (i.e. 0,1,2,3...9) to one-hot encoding (0 = [1 0 0 0 0 0 0 0 0 0], 1 = [0 1 0 0 0 0 0 0 0 0] ... 9 = [0 0 0 0 0 0 0 0 0 1]). To do this, first, calculate the number of unique elements in the target training data. Hints:\n",
        "* use the [unique() function](https://numpy.org/doc/stable/reference/generated/numpy.unique.html) of Numpy to list the unique elements\n",
        "* you can count the number of elements in a list with the [len() function](https://www.w3schools.com/python/ref_func_len.asp)"
      ],
      "metadata": {
        "id": "ooHCnUin7r4o"
      }
    },
    {
      "cell_type": "code",
      "source": [
        "nb_classes = len(np.unique(Y_train))"
      ],
      "metadata": {
        "id": "i0LAO9cs8KEE"
      },
      "execution_count": 11,
      "outputs": []
    },
    {
      "cell_type": "markdown",
      "source": [
        "Doublecheck, if the same number of classes exists in the validation and test target data:"
      ],
      "metadata": {
        "id": "BvM6XhGe8JU9"
      }
    },
    {
      "cell_type": "code",
      "source": [
        "print(\"Validation data has the same number of classes, as the training data:\", nb_classes == len(np.unique(Y_valid)))\n",
        "print(\"Test data has the same number of classes, as the training data:\", nb_classes == len(np.unique(Y_test)))"
      ],
      "metadata": {
        "id": "eZFNSsyx_Py2",
        "colab": {
          "base_uri": "https://localhost:8080/"
        },
        "outputId": "52cee8e0-3a3e-4c14-ed0b-28955aca632f"
      },
      "execution_count": 12,
      "outputs": [
        {
          "output_type": "stream",
          "name": "stdout",
          "text": [
            "Validation data has the same number of classes, as the training data: True\n",
            "Test data has the same number of classes, as the training data: True\n"
          ]
        }
      ]
    },
    {
      "cell_type": "markdown",
      "source": [
        "And convert the dense representation into one-hot encoding. Hint:\n",
        "* use the [to_categorical function](https://www.tensorflow.org/api_docs/python/tf/keras/utils/to_categorical) with the calculated nb_classes\n"
      ],
      "metadata": {
        "id": "mJM-iBmR8dLe"
      }
    },
    {
      "cell_type": "code",
      "source": [
        "Y_train = to_categorical(Y_train, num_classes = nb_classes)\n",
        "Y_valid = to_categorical(Y_valid, num_classes = nb_classes)\n",
        "Y_test  = to_categorical(Y_test, num_classes = nb_classes)"
      ],
      "metadata": {
        "id": "xwZ4OJ6I8lba"
      },
      "execution_count": 13,
      "outputs": []
    },
    {
      "cell_type": "markdown",
      "source": [
        "## Final check of data preparation\n",
        "Now, lets check the shapes and mean and standard deviation of the training, validation and test data."
      ],
      "metadata": {
        "id": "LshN2OSsv3TZ"
      }
    },
    {
      "cell_type": "code",
      "source": [
        "print(\"Shapes of the training, validation and test input data:\", X_train.shape, X_valid.shape, X_test.shape)\n",
        "print(\"Shapes of the training, validation and test output data:\", Y_train.shape, Y_valid.shape, Y_test.shape)\n",
        "print(\"Mean values of the training, validation and test input data:\", X_train.mean(), X_valid.mean(), X_test.mean())\n",
        "print(\"Standard deviation of the training, validation and test input data:\", X_train.std(), X_valid.std(), X_test.std())"
      ],
      "metadata": {
        "id": "O_jdJVcvX0vi",
        "colab": {
          "base_uri": "https://localhost:8080/"
        },
        "outputId": "7d369109-d987-40cb-dead-efacd69e9c02"
      },
      "execution_count": 14,
      "outputs": [
        {
          "output_type": "stream",
          "name": "stdout",
          "text": [
            "Shapes of the training, validation and test input data: (40000, 3072) (10000, 3072) (10000, 3072)\n",
            "Shapes of the training, validation and test output data: (40000, 10) (10000, 10) (10000, 10)\n",
            "Mean values of the training, validation and test input data: -2.4725992e-09 0.0023437182 0.013331188\n",
            "Standard deviation of the training, validation and test input data: 1.0000038 0.99656224 0.9978297\n"
          ]
        }
      ]
    },
    {
      "cell_type": "markdown",
      "source": [
        "Don't worry, if the mean and standard deviation of the validation and test data are not exactly 0 and 1, but these might be very mear to it (e.g. 0.01 mean, 0.99 variance)."
      ],
      "metadata": {
        "id": "5GtAOOoezmZY"
      }
    },
    {
      "cell_type": "markdown",
      "metadata": {
        "id": "cJ14oyZExpqj"
      },
      "source": [
        "# 2. Training"
      ]
    },
    {
      "cell_type": "markdown",
      "metadata": {
        "id": "s4ZXYRMBxpql"
      },
      "source": [
        "Let us begin with a simple example of creating a small neural network without regularization and training it with actual data. The purpose of this is to provide you with an example as to how to proceed with the next exercise."
      ]
    },
    {
      "cell_type": "code",
      "source": [
        "# imports\n",
        "import numpy as np\n",
        "import matplotlib.pyplot as plt\n",
        "from tensorflow.keras.models import Sequential\n",
        "from tensorflow.keras.layers import Dense, Embedding, Flatten, Dropout\n",
        "from tensorflow.keras.initializers import HeNormal\n",
        "from tensorflow.keras.callbacks import EarlyStopping"
      ],
      "metadata": {
        "id": "6-8Q6ll7ZDgq"
      },
      "execution_count": 15,
      "outputs": []
    },
    {
      "cell_type": "code",
      "source": [
        "# model definition\n",
        "model = Sequential()\n",
        "model.add(Dense(128, activation='tanh', input_shape=(flattened_dim,)))\n",
        "model.add(Dense(128, activation='tanh'))\n",
        "model.add(Dense(nb_classes, activation='softmax'))\n",
        "\n",
        "# loss function and optimizer\n",
        "model.compile(loss='categorical_crossentropy', optimizer='adam', metrics=['accuracy'])"
      ],
      "metadata": {
        "id": "pke6w3CD8DHp"
      },
      "execution_count": 16,
      "outputs": []
    },
    {
      "cell_type": "code",
      "metadata": {
        "id": "CZbOR76QxprC",
        "colab": {
          "base_uri": "https://localhost:8080/"
        },
        "outputId": "6ab384a1-52ec-4f54-8324-653abf610f1a"
      },
      "source": [
        "# training\n",
        "network_history = model.fit(X_train, Y_train,\n",
        "                            validation_data=(X_valid,Y_valid),\n",
        "                            batch_size=128,\n",
        "                            epochs=40,\n",
        "                            verbose=1)"
      ],
      "execution_count": 17,
      "outputs": [
        {
          "output_type": "stream",
          "name": "stdout",
          "text": [
            "Epoch 1/40\n",
            "313/313 [==============================] - 3s 6ms/step - loss: 1.8179 - accuracy: 0.3666 - val_loss: 1.7598 - val_accuracy: 0.3861\n",
            "Epoch 2/40\n",
            "313/313 [==============================] - 1s 5ms/step - loss: 1.6914 - accuracy: 0.4156 - val_loss: 1.7298 - val_accuracy: 0.3988\n",
            "Epoch 3/40\n",
            "313/313 [==============================] - 1s 5ms/step - loss: 1.6435 - accuracy: 0.4328 - val_loss: 1.6978 - val_accuracy: 0.4130\n",
            "Epoch 4/40\n",
            "313/313 [==============================] - 1s 4ms/step - loss: 1.5973 - accuracy: 0.4478 - val_loss: 1.6871 - val_accuracy: 0.4202\n",
            "Epoch 5/40\n",
            "313/313 [==============================] - 2s 5ms/step - loss: 1.5617 - accuracy: 0.4614 - val_loss: 1.6745 - val_accuracy: 0.4228\n",
            "Epoch 6/40\n",
            "313/313 [==============================] - 2s 6ms/step - loss: 1.5371 - accuracy: 0.4678 - val_loss: 1.6572 - val_accuracy: 0.4241\n",
            "Epoch 7/40\n",
            "313/313 [==============================] - 1s 5ms/step - loss: 1.4993 - accuracy: 0.4816 - val_loss: 1.6570 - val_accuracy: 0.4290\n",
            "Epoch 8/40\n",
            "313/313 [==============================] - 1s 4ms/step - loss: 1.4703 - accuracy: 0.4916 - val_loss: 1.6541 - val_accuracy: 0.4326\n",
            "Epoch 9/40\n",
            "313/313 [==============================] - 1s 5ms/step - loss: 1.4551 - accuracy: 0.4950 - val_loss: 1.6385 - val_accuracy: 0.4346\n",
            "Epoch 10/40\n",
            "313/313 [==============================] - 1s 4ms/step - loss: 1.4211 - accuracy: 0.5078 - val_loss: 1.6274 - val_accuracy: 0.4437\n",
            "Epoch 11/40\n",
            "313/313 [==============================] - 1s 4ms/step - loss: 1.3960 - accuracy: 0.5172 - val_loss: 1.6310 - val_accuracy: 0.4399\n",
            "Epoch 12/40\n",
            "313/313 [==============================] - 1s 4ms/step - loss: 1.3810 - accuracy: 0.5234 - val_loss: 1.6239 - val_accuracy: 0.4392\n",
            "Epoch 13/40\n",
            "313/313 [==============================] - 2s 5ms/step - loss: 1.3583 - accuracy: 0.5307 - val_loss: 1.6223 - val_accuracy: 0.4430\n",
            "Epoch 14/40\n",
            "313/313 [==============================] - 2s 6ms/step - loss: 1.3395 - accuracy: 0.5376 - val_loss: 1.6215 - val_accuracy: 0.4434\n",
            "Epoch 15/40\n",
            "313/313 [==============================] - 1s 4ms/step - loss: 1.3153 - accuracy: 0.5442 - val_loss: 1.6357 - val_accuracy: 0.4418\n",
            "Epoch 16/40\n",
            "313/313 [==============================] - 1s 4ms/step - loss: 1.2971 - accuracy: 0.5517 - val_loss: 1.6362 - val_accuracy: 0.4437\n",
            "Epoch 17/40\n",
            "313/313 [==============================] - 1s 4ms/step - loss: 1.2673 - accuracy: 0.5602 - val_loss: 1.6320 - val_accuracy: 0.4461\n",
            "Epoch 18/40\n",
            "313/313 [==============================] - 1s 4ms/step - loss: 1.2538 - accuracy: 0.5664 - val_loss: 1.6276 - val_accuracy: 0.4524\n",
            "Epoch 19/40\n",
            "313/313 [==============================] - 1s 5ms/step - loss: 1.2434 - accuracy: 0.5689 - val_loss: 1.6331 - val_accuracy: 0.4466\n",
            "Epoch 20/40\n",
            "313/313 [==============================] - 2s 5ms/step - loss: 1.2168 - accuracy: 0.5772 - val_loss: 1.6322 - val_accuracy: 0.4501\n",
            "Epoch 21/40\n",
            "313/313 [==============================] - 1s 5ms/step - loss: 1.1950 - accuracy: 0.5854 - val_loss: 1.6578 - val_accuracy: 0.4430\n",
            "Epoch 22/40\n",
            "313/313 [==============================] - 2s 6ms/step - loss: 1.1773 - accuracy: 0.5919 - val_loss: 1.6581 - val_accuracy: 0.4483\n",
            "Epoch 23/40\n",
            "313/313 [==============================] - 2s 5ms/step - loss: 1.1646 - accuracy: 0.5978 - val_loss: 1.6699 - val_accuracy: 0.4426\n",
            "Epoch 24/40\n",
            "313/313 [==============================] - 1s 5ms/step - loss: 1.1493 - accuracy: 0.6012 - val_loss: 1.6644 - val_accuracy: 0.4454\n",
            "Epoch 25/40\n",
            "313/313 [==============================] - 1s 5ms/step - loss: 1.1279 - accuracy: 0.6107 - val_loss: 1.6708 - val_accuracy: 0.4523\n",
            "Epoch 26/40\n",
            "313/313 [==============================] - 1s 4ms/step - loss: 1.1128 - accuracy: 0.6156 - val_loss: 1.6898 - val_accuracy: 0.4447\n",
            "Epoch 27/40\n",
            "313/313 [==============================] - 1s 5ms/step - loss: 1.0983 - accuracy: 0.6213 - val_loss: 1.6991 - val_accuracy: 0.4420\n",
            "Epoch 28/40\n",
            "313/313 [==============================] - 1s 4ms/step - loss: 1.0849 - accuracy: 0.6246 - val_loss: 1.6928 - val_accuracy: 0.4486\n",
            "Epoch 29/40\n",
            "313/313 [==============================] - 1s 5ms/step - loss: 1.0734 - accuracy: 0.6299 - val_loss: 1.7245 - val_accuracy: 0.4439\n",
            "Epoch 30/40\n",
            "313/313 [==============================] - 2s 5ms/step - loss: 1.0533 - accuracy: 0.6385 - val_loss: 1.7155 - val_accuracy: 0.4474\n",
            "Epoch 31/40\n",
            "313/313 [==============================] - 2s 5ms/step - loss: 1.0322 - accuracy: 0.6471 - val_loss: 1.7396 - val_accuracy: 0.4397\n",
            "Epoch 32/40\n",
            "313/313 [==============================] - 1s 4ms/step - loss: 1.0200 - accuracy: 0.6505 - val_loss: 1.7547 - val_accuracy: 0.4440\n",
            "Epoch 33/40\n",
            "313/313 [==============================] - 1s 5ms/step - loss: 1.0152 - accuracy: 0.6518 - val_loss: 1.7557 - val_accuracy: 0.4452\n",
            "Epoch 34/40\n",
            "313/313 [==============================] - 1s 4ms/step - loss: 0.9978 - accuracy: 0.6554 - val_loss: 1.7708 - val_accuracy: 0.4395\n",
            "Epoch 35/40\n",
            "313/313 [==============================] - 1s 5ms/step - loss: 0.9746 - accuracy: 0.6644 - val_loss: 1.7855 - val_accuracy: 0.4419\n",
            "Epoch 36/40\n",
            "313/313 [==============================] - 1s 5ms/step - loss: 0.9666 - accuracy: 0.6676 - val_loss: 1.7887 - val_accuracy: 0.4414\n",
            "Epoch 37/40\n",
            "313/313 [==============================] - 1s 4ms/step - loss: 0.9512 - accuracy: 0.6746 - val_loss: 1.7925 - val_accuracy: 0.4383\n",
            "Epoch 38/40\n",
            "313/313 [==============================] - 2s 5ms/step - loss: 0.9373 - accuracy: 0.6782 - val_loss: 1.8125 - val_accuracy: 0.4429\n",
            "Epoch 39/40\n",
            "313/313 [==============================] - 2s 6ms/step - loss: 0.9238 - accuracy: 0.6821 - val_loss: 1.8110 - val_accuracy: 0.4435\n",
            "Epoch 40/40\n",
            "313/313 [==============================] - 1s 5ms/step - loss: 0.9100 - accuracy: 0.6882 - val_loss: 1.8398 - val_accuracy: 0.4391\n"
          ]
        }
      ]
    },
    {
      "cell_type": "markdown",
      "metadata": {
        "id": "uFqhzV85xprJ"
      },
      "source": [
        "Let's plot the training and validation loss and accuracy curves:"
      ]
    },
    {
      "cell_type": "code",
      "metadata": {
        "id": "BYmXGkLCxprK",
        "colab": {
          "base_uri": "https://localhost:8080/",
          "height": 882
        },
        "outputId": "5e06a0e2-c34d-45df-ead6-7f35c1a1ac9b"
      },
      "source": [
        "def plot_history(network_history):\n",
        "    plt.figure()\n",
        "    plt.xlabel('Epochs')\n",
        "    plt.ylabel('Loss')\n",
        "    plt.plot(network_history.history['loss'])\n",
        "    plt.plot(network_history.history['val_loss'])\n",
        "    plt.legend(['Training', 'Validation'])\n",
        "\n",
        "    plt.figure()\n",
        "    plt.xlabel('Epochs')\n",
        "    plt.ylabel('Accuracy')\n",
        "    plt.plot(network_history.history['accuracy'])\n",
        "    plt.plot(network_history.history['val_accuracy'])\n",
        "    plt.legend(['Training', 'Validation'], loc='lower right')\n",
        "    plt.show()\n",
        "\n",
        "plot_history(network_history)"
      ],
      "execution_count": 18,
      "outputs": [
        {
          "output_type": "display_data",
          "data": {
            "text/plain": [
              "<Figure size 640x480 with 1 Axes>"
            ],
            "image/png": "[encoded data removed]"
          },
          "metadata": {}
        },
        {
          "output_type": "display_data",
          "data": {
            "text/plain": [
              "<Figure size 640x480 with 1 Axes>"
            ],
            "image/png": "[encoded data removed]"
          },
          "metadata": {}
        }
      ]
    },
    {
      "cell_type": "markdown",
      "source": [
        "What do you think? Does it overfit?\n",
        "\n",
        "Yes, the model does overfit because the training loss goes down very low but the validation loss does not decrease. Similarly, the training accuracy continiously rises but the validation accuracy is low and below 50%."
      ],
      "metadata": {
        "id": "tgG7QeXF-dx6"
      }
    },
    {
      "cell_type": "markdown",
      "metadata": {
        "id": "_Q9rIeBBxprO"
      },
      "source": [
        "# Inspecting the model"
      ]
    },
    {
      "cell_type": "code",
      "metadata": {
        "id": "6r2AmmoMxprP",
        "colab": {
          "base_uri": "https://localhost:8080/"
        },
        "outputId": "c2ccabd5-152b-4f83-9542-d82c24cdabb5"
      },
      "source": [
        "model.summary()"
      ],
      "execution_count": 19,
      "outputs": [
        {
          "output_type": "stream",
          "name": "stdout",
          "text": [
            "Model: \"sequential\"\n",
            "_________________________________________________________________\n",
            " Layer (type)                Output Shape              Param #   \n",
            "=================================================================\n",
            " dense (Dense)               (None, 128)               393344    \n",
            "                                                                 \n",
            " dense_1 (Dense)             (None, 128)               16512     \n",
            "                                                                 \n",
            " dense_2 (Dense)             (None, 10)                1290      \n",
            "                                                                 \n",
            "=================================================================\n",
            "Total params: 411146 (1.57 MB)\n",
            "Trainable params: 411146 (1.57 MB)\n",
            "Non-trainable params: 0 (0.00 Byte)\n",
            "_________________________________________________________________\n"
          ]
        }
      ]
    },
    {
      "cell_type": "code",
      "metadata": {
        "id": "D3-bVDVuxprS",
        "colab": {
          "base_uri": "https://localhost:8080/"
        },
        "outputId": "44002141-c8a0-46ce-a7f5-d1c07b4075d9"
      },
      "source": [
        "print('Input: ', model.input)"
      ],
      "execution_count": 20,
      "outputs": [
        {
          "output_type": "stream",
          "name": "stdout",
          "text": [
            "Input:  KerasTensor(type_spec=TensorSpec(shape=(None, 3072), dtype=tf.float32, name='dense_input'), name='dense_input', description=\"created by layer 'dense_input'\")\n"
          ]
        }
      ]
    },
    {
      "cell_type": "code",
      "metadata": {
        "id": "Da2OJ3DmxprX",
        "colab": {
          "base_uri": "https://localhost:8080/"
        },
        "outputId": "f02c939e-c949-462e-faf1-c94380d46e93"
      },
      "source": [
        "print('Layers:\\n')\n",
        "for layer in model.layers:\n",
        "    print(\"Layer's name: \", layer.name, ', trainable: ', layer.trainable)\n",
        "    print(layer.get_config(),'\\n')"
      ],
      "execution_count": 21,
      "outputs": [
        {
          "output_type": "stream",
          "name": "stdout",
          "text": [
            "Layers:\n",
            "\n",
            "Layer's name:  dense , trainable:  True\n",
            "{'name': 'dense', 'trainable': True, 'dtype': 'float32', 'batch_input_shape': (None, 3072), 'units': 128, 'activation': 'tanh', 'use_bias': True, 'kernel_initializer': {'module': 'keras.initializers', 'class_name': 'GlorotUniform', 'config': {'seed': None}, 'registered_name': None}, 'bias_initializer': {'module': 'keras.initializers', 'class_name': 'Zeros', 'config': {}, 'registered_name': None}, 'kernel_regularizer': None, 'bias_regularizer': None, 'activity_regularizer': None, 'kernel_constraint': None, 'bias_constraint': None} \n",
            "\n",
            "Layer's name:  dense_1 , trainable:  True\n",
            "{'name': 'dense_1', 'trainable': True, 'dtype': 'float32', 'units': 128, 'activation': 'tanh', 'use_bias': True, 'kernel_initializer': {'module': 'keras.initializers', 'class_name': 'GlorotUniform', 'config': {'seed': None}, 'registered_name': None}, 'bias_initializer': {'module': 'keras.initializers', 'class_name': 'Zeros', 'config': {}, 'registered_name': None}, 'kernel_regularizer': None, 'bias_regularizer': None, 'activity_regularizer': None, 'kernel_constraint': None, 'bias_constraint': None} \n",
            "\n",
            "Layer's name:  dense_2 , trainable:  True\n",
            "{'name': 'dense_2', 'trainable': True, 'dtype': 'float32', 'units': 10, 'activation': 'softmax', 'use_bias': True, 'kernel_initializer': {'module': 'keras.initializers', 'class_name': 'GlorotUniform', 'config': {'seed': None}, 'registered_name': None}, 'bias_initializer': {'module': 'keras.initializers', 'class_name': 'Zeros', 'config': {}, 'registered_name': None}, 'kernel_regularizer': None, 'bias_regularizer': None, 'activity_regularizer': None, 'kernel_constraint': None, 'bias_constraint': None} \n",
            "\n"
          ]
        }
      ]
    },
    {
      "cell_type": "code",
      "metadata": {
        "id": "AtVX3M3lxprc",
        "colab": {
          "base_uri": "https://localhost:8080/"
        },
        "outputId": "a9ae3750-e32f-4df7-bee5-11db47a02abf"
      },
      "source": [
        "print('Output: ', model.output)"
      ],
      "execution_count": 22,
      "outputs": [
        {
          "output_type": "stream",
          "name": "stdout",
          "text": [
            "Output:  KerasTensor(type_spec=TensorSpec(shape=(None, 10), dtype=tf.float32, name=None), name='dense_2/Softmax:0', description=\"created by layer 'dense_2'\")\n"
          ]
        }
      ]
    },
    {
      "cell_type": "markdown",
      "source": [
        "## 2.1. Exercise\n",
        "Introduce [early stopping](https://www.tensorflow.org/api_docs/python/tf/keras/callbacks/EarlyStopping) and [dropout](https://www.tensorflow.org/api_docs/python/tf/keras/layers/Dropout) with a rate between 0.1..0.5. Tips:\n",
        "\n",
        "* Insert the dropout layer between the two Dense layers.\n",
        "* Set the patience of early stopping to 5.\n",
        "* Set the number of epochs to a very high number.\n",
        "* Don't forget to restore best weights after early stopping.\n",
        "* And also set early stopping to monitor validation accuracy (the default value is validation loss -- which is categorical crossentropy now).\n",
        "\n",
        "Compile and train the model. Attempt to increase the validation accuracy as much as possible by making changes to the dropout rate. Inspect the effects of the modifications."
      ],
      "metadata": {
        "id": "E-hHfs9qA_iO"
      }
    },
    {
      "cell_type": "code",
      "source": [
        "es = EarlyStopping(monitor='val_loss', restore_best_weights=True, patience=5)"
      ],
      "metadata": {
        "id": "NwXrPzOgEBG-"
      },
      "execution_count": 23,
      "outputs": []
    },
    {
      "cell_type": "code",
      "source": [
        "# model definition with dropout\n",
        "model = Sequential()\n",
        "model.add(Dense(128, activation='tanh', input_shape=(flattened_dim,)))\n",
        "model.add(Dropout(0.4))\n",
        "model.add(Dense(128, activation='tanh'))\n",
        "model.add(Dense(nb_classes, activation='softmax'))\n",
        "\n",
        "# loss function and optimizer\n",
        "model.compile(loss='categorical_crossentropy', optimizer='adam', metrics=['accuracy'])"
      ],
      "metadata": {
        "id": "7hZEGzj8GFwP"
      },
      "execution_count": 24,
      "outputs": []
    },
    {
      "cell_type": "code",
      "source": [
        "# training with early stopping\n",
        "network_history = model.fit(X_train, Y_train,\n",
        "                            validation_data=(X_valid,Y_valid),\n",
        "                            batch_size=128,\n",
        "                            epochs=100,\n",
        "                            verbose=1,\n",
        "                            callbacks=[es])"
      ],
      "metadata": {
        "id": "GCG54R-vGGWj",
        "colab": {
          "base_uri": "https://localhost:8080/"
        },
        "outputId": "e2d9958b-17d2-4d4d-aa12-9e150b706199"
      },
      "execution_count": 25,
      "outputs": [
        {
          "output_type": "stream",
          "name": "stdout",
          "text": [
            "Epoch 1/100\n",
            "313/313 [==============================] - 4s 6ms/step - loss: 1.9182 - accuracy: 0.3199 - val_loss: 1.7798 - val_accuracy: 0.3759\n",
            "Epoch 2/100\n",
            "313/313 [==============================] - 1s 5ms/step - loss: 1.8101 - accuracy: 0.3606 - val_loss: 1.7575 - val_accuracy: 0.3807\n",
            "Epoch 3/100\n",
            "313/313 [==============================] - 2s 5ms/step - loss: 1.7690 - accuracy: 0.3787 - val_loss: 1.7294 - val_accuracy: 0.3983\n",
            "Epoch 4/100\n",
            "313/313 [==============================] - 2s 6ms/step - loss: 1.7442 - accuracy: 0.3889 - val_loss: 1.7033 - val_accuracy: 0.4064\n",
            "Epoch 5/100\n",
            "313/313 [==============================] - 1s 5ms/step - loss: 1.7241 - accuracy: 0.3941 - val_loss: 1.7087 - val_accuracy: 0.4042\n",
            "Epoch 6/100\n",
            "313/313 [==============================] - 2s 5ms/step - loss: 1.7061 - accuracy: 0.4007 - val_loss: 1.6770 - val_accuracy: 0.4146\n",
            "Epoch 7/100\n",
            "313/313 [==============================] - 1s 5ms/step - loss: 1.6885 - accuracy: 0.4095 - val_loss: 1.6787 - val_accuracy: 0.4209\n",
            "Epoch 8/100\n",
            "313/313 [==============================] - 1s 5ms/step - loss: 1.6732 - accuracy: 0.4135 - val_loss: 1.6601 - val_accuracy: 0.4215\n",
            "Epoch 9/100\n",
            "313/313 [==============================] - 2s 5ms/step - loss: 1.6602 - accuracy: 0.4194 - val_loss: 1.6558 - val_accuracy: 0.4242\n",
            "Epoch 10/100\n",
            "313/313 [==============================] - 2s 5ms/step - loss: 1.6406 - accuracy: 0.4270 - val_loss: 1.6410 - val_accuracy: 0.4321\n",
            "Epoch 11/100\n",
            "313/313 [==============================] - 2s 5ms/step - loss: 1.6312 - accuracy: 0.4310 - val_loss: 1.6338 - val_accuracy: 0.4268\n",
            "Epoch 12/100\n",
            "313/313 [==============================] - 2s 6ms/step - loss: 1.6239 - accuracy: 0.4315 - val_loss: 1.6253 - val_accuracy: 0.4357\n",
            "Epoch 13/100\n",
            "313/313 [==============================] - 2s 5ms/step - loss: 1.6080 - accuracy: 0.4361 - val_loss: 1.6106 - val_accuracy: 0.4369\n",
            "Epoch 14/100\n",
            "313/313 [==============================] - 1s 4ms/step - loss: 1.5949 - accuracy: 0.4405 - val_loss: 1.5951 - val_accuracy: 0.4426\n",
            "Epoch 15/100\n",
            "313/313 [==============================] - 2s 5ms/step - loss: 1.5847 - accuracy: 0.4460 - val_loss: 1.5928 - val_accuracy: 0.4489\n",
            "Epoch 16/100\n",
            "313/313 [==============================] - 2s 5ms/step - loss: 1.5799 - accuracy: 0.4459 - val_loss: 1.5926 - val_accuracy: 0.4439\n",
            "Epoch 17/100\n",
            "313/313 [==============================] - 1s 5ms/step - loss: 1.5669 - accuracy: 0.4507 - val_loss: 1.5735 - val_accuracy: 0.4515\n",
            "Epoch 18/100\n",
            "313/313 [==============================] - 2s 5ms/step - loss: 1.5548 - accuracy: 0.4542 - val_loss: 1.5717 - val_accuracy: 0.4497\n",
            "Epoch 19/100\n",
            "313/313 [==============================] - 2s 6ms/step - loss: 1.5543 - accuracy: 0.4545 - val_loss: 1.5681 - val_accuracy: 0.4526\n",
            "Epoch 20/100\n",
            "313/313 [==============================] - 2s 5ms/step - loss: 1.5396 - accuracy: 0.4570 - val_loss: 1.5592 - val_accuracy: 0.4535\n",
            "Epoch 21/100\n",
            "313/313 [==============================] - 1s 4ms/step - loss: 1.5363 - accuracy: 0.4574 - val_loss: 1.5555 - val_accuracy: 0.4558\n",
            "Epoch 22/100\n",
            "313/313 [==============================] - 2s 5ms/step - loss: 1.5328 - accuracy: 0.4590 - val_loss: 1.5525 - val_accuracy: 0.4525\n",
            "Epoch 23/100\n",
            "313/313 [==============================] - 1s 5ms/step - loss: 1.5246 - accuracy: 0.4639 - val_loss: 1.5505 - val_accuracy: 0.4555\n",
            "Epoch 24/100\n",
            "313/313 [==============================] - 2s 5ms/step - loss: 1.5139 - accuracy: 0.4661 - val_loss: 1.5479 - val_accuracy: 0.4536\n",
            "Epoch 25/100\n",
            "313/313 [==============================] - 1s 4ms/step - loss: 1.5031 - accuracy: 0.4713 - val_loss: 1.5435 - val_accuracy: 0.4592\n",
            "Epoch 26/100\n",
            "313/313 [==============================] - 2s 5ms/step - loss: 1.5062 - accuracy: 0.4674 - val_loss: 1.5418 - val_accuracy: 0.4624\n",
            "Epoch 27/100\n",
            "313/313 [==============================] - 2s 6ms/step - loss: 1.5008 - accuracy: 0.4709 - val_loss: 1.5392 - val_accuracy: 0.4553\n",
            "Epoch 28/100\n",
            "313/313 [==============================] - 2s 5ms/step - loss: 1.4914 - accuracy: 0.4755 - val_loss: 1.5363 - val_accuracy: 0.4608\n",
            "Epoch 29/100\n",
            "313/313 [==============================] - 2s 5ms/step - loss: 1.4885 - accuracy: 0.4774 - val_loss: 1.5281 - val_accuracy: 0.4618\n",
            "Epoch 30/100\n",
            "313/313 [==============================] - 2s 5ms/step - loss: 1.4878 - accuracy: 0.4730 - val_loss: 1.5272 - val_accuracy: 0.4616\n",
            "Epoch 31/100\n",
            "313/313 [==============================] - 1s 4ms/step - loss: 1.4781 - accuracy: 0.4774 - val_loss: 1.5285 - val_accuracy: 0.4634\n",
            "Epoch 32/100\n",
            "313/313 [==============================] - 2s 5ms/step - loss: 1.4729 - accuracy: 0.4807 - val_loss: 1.5217 - val_accuracy: 0.4639\n",
            "Epoch 33/100\n",
            "313/313 [==============================] - 1s 4ms/step - loss: 1.4717 - accuracy: 0.4793 - val_loss: 1.5161 - val_accuracy: 0.4665\n",
            "Epoch 34/100\n",
            "313/313 [==============================] - 1s 5ms/step - loss: 1.4678 - accuracy: 0.4800 - val_loss: 1.5200 - val_accuracy: 0.4668\n",
            "Epoch 35/100\n",
            "313/313 [==============================] - 2s 6ms/step - loss: 1.4642 - accuracy: 0.4818 - val_loss: 1.5177 - val_accuracy: 0.4703\n",
            "Epoch 36/100\n",
            "313/313 [==============================] - 2s 5ms/step - loss: 1.4635 - accuracy: 0.4817 - val_loss: 1.5161 - val_accuracy: 0.4671\n",
            "Epoch 37/100\n",
            "313/313 [==============================] - 1s 5ms/step - loss: 1.4499 - accuracy: 0.4857 - val_loss: 1.5083 - val_accuracy: 0.4740\n",
            "Epoch 38/100\n",
            "313/313 [==============================] - 1s 5ms/step - loss: 1.4499 - accuracy: 0.4866 - val_loss: 1.5074 - val_accuracy: 0.4679\n",
            "Epoch 39/100\n",
            "313/313 [==============================] - 1s 5ms/step - loss: 1.4463 - accuracy: 0.4891 - val_loss: 1.4990 - val_accuracy: 0.4739\n",
            "Epoch 40/100\n",
            "313/313 [==============================] - 1s 5ms/step - loss: 1.4395 - accuracy: 0.4895 - val_loss: 1.4969 - val_accuracy: 0.4740\n",
            "Epoch 41/100\n",
            "313/313 [==============================] - 1s 5ms/step - loss: 1.4351 - accuracy: 0.4911 - val_loss: 1.4937 - val_accuracy: 0.4711\n",
            "Epoch 42/100\n",
            "313/313 [==============================] - 1s 4ms/step - loss: 1.4232 - accuracy: 0.4951 - val_loss: 1.4965 - val_accuracy: 0.4763\n",
            "Epoch 43/100\n",
            "313/313 [==============================] - 2s 6ms/step - loss: 1.4280 - accuracy: 0.4965 - val_loss: 1.4863 - val_accuracy: 0.4773\n",
            "Epoch 44/100\n",
            "313/313 [==============================] - 2s 5ms/step - loss: 1.4260 - accuracy: 0.4948 - val_loss: 1.4893 - val_accuracy: 0.4760\n",
            "Epoch 45/100\n",
            "313/313 [==============================] - 1s 5ms/step - loss: 1.4282 - accuracy: 0.4933 - val_loss: 1.4807 - val_accuracy: 0.4776\n",
            "Epoch 46/100\n",
            "313/313 [==============================] - 1s 5ms/step - loss: 1.4190 - accuracy: 0.4980 - val_loss: 1.4821 - val_accuracy: 0.4804\n",
            "Epoch 47/100\n",
            "313/313 [==============================] - 2s 5ms/step - loss: 1.4156 - accuracy: 0.4996 - val_loss: 1.4883 - val_accuracy: 0.4771\n",
            "Epoch 48/100\n",
            "313/313 [==============================] - 2s 5ms/step - loss: 1.4138 - accuracy: 0.5008 - val_loss: 1.4856 - val_accuracy: 0.4780\n",
            "Epoch 49/100\n",
            "313/313 [==============================] - 2s 5ms/step - loss: 1.4125 - accuracy: 0.5030 - val_loss: 1.4763 - val_accuracy: 0.4851\n",
            "Epoch 50/100\n",
            "313/313 [==============================] - 1s 5ms/step - loss: 1.4087 - accuracy: 0.5004 - val_loss: 1.4873 - val_accuracy: 0.4779\n",
            "Epoch 51/100\n",
            "313/313 [==============================] - 2s 6ms/step - loss: 1.4041 - accuracy: 0.5012 - val_loss: 1.4784 - val_accuracy: 0.4855\n",
            "Epoch 52/100\n",
            "313/313 [==============================] - 2s 5ms/step - loss: 1.4021 - accuracy: 0.5021 - val_loss: 1.4856 - val_accuracy: 0.4815\n",
            "Epoch 53/100\n",
            "313/313 [==============================] - 1s 4ms/step - loss: 1.4044 - accuracy: 0.5011 - val_loss: 1.4850 - val_accuracy: 0.4825\n",
            "Epoch 54/100\n",
            "313/313 [==============================] - 1s 5ms/step - loss: 1.4033 - accuracy: 0.5029 - val_loss: 1.4751 - val_accuracy: 0.4804\n",
            "Epoch 55/100\n",
            "313/313 [==============================] - 1s 4ms/step - loss: 1.3953 - accuracy: 0.5064 - val_loss: 1.4800 - val_accuracy: 0.4839\n",
            "Epoch 56/100\n",
            "313/313 [==============================] - 1s 4ms/step - loss: 1.3929 - accuracy: 0.5075 - val_loss: 1.4779 - val_accuracy: 0.4853\n",
            "Epoch 57/100\n",
            "313/313 [==============================] - 2s 5ms/step - loss: 1.3900 - accuracy: 0.5064 - val_loss: 1.4738 - val_accuracy: 0.4867\n",
            "Epoch 58/100\n",
            "313/313 [==============================] - 1s 5ms/step - loss: 1.3865 - accuracy: 0.5059 - val_loss: 1.4862 - val_accuracy: 0.4823\n",
            "Epoch 59/100\n",
            "313/313 [==============================] - 2s 6ms/step - loss: 1.3834 - accuracy: 0.5116 - val_loss: 1.4715 - val_accuracy: 0.4873\n",
            "Epoch 60/100\n",
            "313/313 [==============================] - 2s 5ms/step - loss: 1.3805 - accuracy: 0.5110 - val_loss: 1.4713 - val_accuracy: 0.4828\n",
            "Epoch 61/100\n",
            "313/313 [==============================] - 2s 5ms/step - loss: 1.3851 - accuracy: 0.5068 - val_loss: 1.4731 - val_accuracy: 0.4833\n",
            "Epoch 62/100\n",
            "313/313 [==============================] - 1s 5ms/step - loss: 1.3804 - accuracy: 0.5122 - val_loss: 1.4791 - val_accuracy: 0.4845\n",
            "Epoch 63/100\n",
            "313/313 [==============================] - 1s 4ms/step - loss: 1.3854 - accuracy: 0.5099 - val_loss: 1.4747 - val_accuracy: 0.4861\n",
            "Epoch 64/100\n",
            "313/313 [==============================] - 1s 4ms/step - loss: 1.3773 - accuracy: 0.5112 - val_loss: 1.4674 - val_accuracy: 0.4922\n",
            "Epoch 65/100\n",
            "313/313 [==============================] - 2s 5ms/step - loss: 1.3736 - accuracy: 0.5108 - val_loss: 1.4708 - val_accuracy: 0.4860\n",
            "Epoch 66/100\n",
            "313/313 [==============================] - 2s 5ms/step - loss: 1.3743 - accuracy: 0.5140 - val_loss: 1.4748 - val_accuracy: 0.4891\n",
            "Epoch 67/100\n",
            "313/313 [==============================] - 2s 6ms/step - loss: 1.3737 - accuracy: 0.5106 - val_loss: 1.4638 - val_accuracy: 0.4904\n",
            "Epoch 68/100\n",
            "313/313 [==============================] - 1s 5ms/step - loss: 1.3714 - accuracy: 0.5142 - val_loss: 1.4730 - val_accuracy: 0.4853\n",
            "Epoch 69/100\n",
            "313/313 [==============================] - 2s 5ms/step - loss: 1.3624 - accuracy: 0.5162 - val_loss: 1.4710 - val_accuracy: 0.4907\n",
            "Epoch 70/100\n",
            "313/313 [==============================] - 2s 5ms/step - loss: 1.3715 - accuracy: 0.5141 - val_loss: 1.4782 - val_accuracy: 0.4863\n",
            "Epoch 71/100\n",
            "313/313 [==============================] - 1s 4ms/step - loss: 1.3658 - accuracy: 0.5174 - val_loss: 1.4682 - val_accuracy: 0.4824\n",
            "Epoch 72/100\n",
            "313/313 [==============================] - 2s 5ms/step - loss: 1.3635 - accuracy: 0.5157 - val_loss: 1.4698 - val_accuracy: 0.4872\n"
          ]
        }
      ]
    },
    {
      "cell_type": "markdown",
      "source": [
        "## 2.2 Exercise\n",
        "Change the [activation function of the dense layers (except the last one)](https://www.tensorflow.org/api_docs/python/tf/keras/layers/Dense) to rectified linear unit (ReLU) and the [weight initialization](https://www.tensorflow.org/api_docs/python/tf/keras/initializers) to the theoretically best one. Use the original model's code.\n",
        "\n",
        "Compile and train the model. Inspect the effects of the modifications."
      ],
      "metadata": {
        "id": "zQCDM1o1BBtF"
      }
    },
    {
      "cell_type": "code",
      "source": [
        "# model definition with relu\n",
        "model = Sequential()\n",
        "model.add(Dense(128, activation='relu', kernel_initializer=HeNormal(), input_shape=(flattened_dim,)))\n",
        "model.add(Dense(128, activation='relu', kernel_initializer=HeNormal()))\n",
        "model.add(Dense(nb_classes, activation='softmax'))\n",
        "\n",
        "# loss function and optimizer\n",
        "model.compile(loss='categorical_crossentropy', optimizer='adam', metrics=['accuracy'])"
      ],
      "metadata": {
        "id": "YjHAAh-wGu9O"
      },
      "execution_count": 26,
      "outputs": []
    },
    {
      "cell_type": "code",
      "source": [
        "# training\n",
        "network_history = model.fit(X_train, Y_train,\n",
        "                            validation_data=(X_valid,Y_valid),\n",
        "                            batch_size=128,\n",
        "                            epochs=40,\n",
        "                            verbose=1)"
      ],
      "metadata": {
        "id": "rarwKM1wGxMz",
        "colab": {
          "base_uri": "https://localhost:8080/"
        },
        "outputId": "d512f671-3035-44e8-a34b-7c7b6bac56de"
      },
      "execution_count": 27,
      "outputs": [
        {
          "output_type": "stream",
          "name": "stdout",
          "text": [
            "Epoch 1/40\n",
            "313/313 [==============================] - 4s 8ms/step - loss: 1.8305 - accuracy: 0.3775 - val_loss: 1.6750 - val_accuracy: 0.4194\n",
            "Epoch 2/40\n",
            "313/313 [==============================] - 1s 5ms/step - loss: 1.5441 - accuracy: 0.4634 - val_loss: 1.6390 - val_accuracy: 0.4499\n",
            "Epoch 3/40\n",
            "313/313 [==============================] - 1s 5ms/step - loss: 1.4168 - accuracy: 0.5026 - val_loss: 1.5598 - val_accuracy: 0.4612\n",
            "Epoch 4/40\n",
            "313/313 [==============================] - 1s 4ms/step - loss: 1.3397 - accuracy: 0.5308 - val_loss: 1.5285 - val_accuracy: 0.4756\n",
            "Epoch 5/40\n",
            "313/313 [==============================] - 1s 5ms/step - loss: 1.2639 - accuracy: 0.5549 - val_loss: 1.5216 - val_accuracy: 0.4815\n",
            "Epoch 6/40\n",
            "313/313 [==============================] - 1s 5ms/step - loss: 1.2041 - accuracy: 0.5768 - val_loss: 1.5070 - val_accuracy: 0.4910\n",
            "Epoch 7/40\n",
            "313/313 [==============================] - 1s 4ms/step - loss: 1.1577 - accuracy: 0.5944 - val_loss: 1.5042 - val_accuracy: 0.5013\n",
            "Epoch 8/40\n",
            "313/313 [==============================] - 2s 5ms/step - loss: 1.1112 - accuracy: 0.6090 - val_loss: 1.5176 - val_accuracy: 0.4938\n",
            "Epoch 9/40\n",
            "313/313 [==============================] - 2s 5ms/step - loss: 1.0600 - accuracy: 0.6268 - val_loss: 1.5560 - val_accuracy: 0.4964\n",
            "Epoch 10/40\n",
            "313/313 [==============================] - 1s 5ms/step - loss: 1.0167 - accuracy: 0.6436 - val_loss: 1.5412 - val_accuracy: 0.5076\n",
            "Epoch 11/40\n",
            "313/313 [==============================] - 1s 5ms/step - loss: 0.9703 - accuracy: 0.6599 - val_loss: 1.5919 - val_accuracy: 0.5011\n",
            "Epoch 12/40\n",
            "313/313 [==============================] - 1s 4ms/step - loss: 0.9340 - accuracy: 0.6716 - val_loss: 1.5926 - val_accuracy: 0.4984\n",
            "Epoch 13/40\n",
            "313/313 [==============================] - 1s 5ms/step - loss: 0.8995 - accuracy: 0.6819 - val_loss: 1.6362 - val_accuracy: 0.5001\n",
            "Epoch 14/40\n",
            "313/313 [==============================] - 1s 4ms/step - loss: 0.8575 - accuracy: 0.6996 - val_loss: 1.6962 - val_accuracy: 0.5040\n",
            "Epoch 15/40\n",
            "313/313 [==============================] - 1s 4ms/step - loss: 0.8239 - accuracy: 0.7120 - val_loss: 1.6790 - val_accuracy: 0.5017\n",
            "Epoch 16/40\n",
            "313/313 [==============================] - 2s 5ms/step - loss: 0.7807 - accuracy: 0.7280 - val_loss: 1.7353 - val_accuracy: 0.4969\n",
            "Epoch 17/40\n",
            "313/313 [==============================] - 2s 6ms/step - loss: 0.7525 - accuracy: 0.7345 - val_loss: 1.8029 - val_accuracy: 0.4983\n",
            "Epoch 18/40\n",
            "313/313 [==============================] - 2s 5ms/step - loss: 0.7307 - accuracy: 0.7447 - val_loss: 1.8269 - val_accuracy: 0.4938\n",
            "Epoch 19/40\n",
            "313/313 [==============================] - 1s 5ms/step - loss: 0.6971 - accuracy: 0.7538 - val_loss: 1.8744 - val_accuracy: 0.4936\n",
            "Epoch 20/40\n",
            "313/313 [==============================] - 1s 5ms/step - loss: 0.6687 - accuracy: 0.7664 - val_loss: 1.9385 - val_accuracy: 0.4907\n",
            "Epoch 21/40\n",
            "313/313 [==============================] - 1s 4ms/step - loss: 0.6355 - accuracy: 0.7756 - val_loss: 1.9814 - val_accuracy: 0.4873\n",
            "Epoch 22/40\n",
            "313/313 [==============================] - 2s 5ms/step - loss: 0.6270 - accuracy: 0.7809 - val_loss: 2.0404 - val_accuracy: 0.4882\n",
            "Epoch 23/40\n",
            "313/313 [==============================] - 1s 5ms/step - loss: 0.5939 - accuracy: 0.7888 - val_loss: 2.0770 - val_accuracy: 0.4887\n",
            "Epoch 24/40\n",
            "313/313 [==============================] - 2s 5ms/step - loss: 0.5770 - accuracy: 0.7950 - val_loss: 2.1526 - val_accuracy: 0.4907\n",
            "Epoch 25/40\n",
            "313/313 [==============================] - 2s 5ms/step - loss: 0.5420 - accuracy: 0.8105 - val_loss: 2.2069 - val_accuracy: 0.4850\n",
            "Epoch 26/40\n",
            "313/313 [==============================] - 1s 4ms/step - loss: 0.5354 - accuracy: 0.8108 - val_loss: 2.2382 - val_accuracy: 0.4849\n",
            "Epoch 27/40\n",
            "313/313 [==============================] - 1s 5ms/step - loss: 0.5083 - accuracy: 0.8218 - val_loss: 2.3265 - val_accuracy: 0.4872\n",
            "Epoch 28/40\n",
            "313/313 [==============================] - 1s 4ms/step - loss: 0.4919 - accuracy: 0.8254 - val_loss: 2.3974 - val_accuracy: 0.4812\n",
            "Epoch 29/40\n",
            "313/313 [==============================] - 2s 5ms/step - loss: 0.4706 - accuracy: 0.8338 - val_loss: 2.4686 - val_accuracy: 0.4843\n",
            "Epoch 30/40\n",
            "313/313 [==============================] - 2s 5ms/step - loss: 0.4552 - accuracy: 0.8399 - val_loss: 2.5312 - val_accuracy: 0.4850\n",
            "Epoch 31/40\n",
            "313/313 [==============================] - 2s 5ms/step - loss: 0.4334 - accuracy: 0.8477 - val_loss: 2.5772 - val_accuracy: 0.4916\n",
            "Epoch 32/40\n",
            "313/313 [==============================] - 2s 6ms/step - loss: 0.4278 - accuracy: 0.8502 - val_loss: 2.6630 - val_accuracy: 0.4794\n",
            "Epoch 33/40\n",
            "313/313 [==============================] - 2s 6ms/step - loss: 0.4168 - accuracy: 0.8535 - val_loss: 2.6489 - val_accuracy: 0.4857\n",
            "Epoch 34/40\n",
            "313/313 [==============================] - 2s 5ms/step - loss: 0.3849 - accuracy: 0.8649 - val_loss: 2.7329 - val_accuracy: 0.4767\n",
            "Epoch 35/40\n",
            "313/313 [==============================] - 2s 5ms/step - loss: 0.3774 - accuracy: 0.8680 - val_loss: 2.8174 - val_accuracy: 0.4809\n",
            "Epoch 36/40\n",
            "313/313 [==============================] - 2s 5ms/step - loss: 0.3626 - accuracy: 0.8732 - val_loss: 2.8905 - val_accuracy: 0.4786\n",
            "Epoch 37/40\n",
            "313/313 [==============================] - 2s 5ms/step - loss: 0.3568 - accuracy: 0.8746 - val_loss: 3.0054 - val_accuracy: 0.4774\n",
            "Epoch 38/40\n",
            "313/313 [==============================] - 1s 4ms/step - loss: 0.3593 - accuracy: 0.8750 - val_loss: 2.9548 - val_accuracy: 0.4888\n",
            "Epoch 39/40\n",
            "313/313 [==============================] - 1s 4ms/step - loss: 0.3381 - accuracy: 0.8819 - val_loss: 3.1055 - val_accuracy: 0.4821\n",
            "Epoch 40/40\n",
            "313/313 [==============================] - 2s 6ms/step - loss: 0.3289 - accuracy: 0.8837 - val_loss: 3.0918 - val_accuracy: 0.4773\n"
          ]
        }
      ]
    },
    {
      "cell_type": "markdown",
      "source": [
        "# 2.3. Exercise\n",
        "Based on the modifications above, and by any further modifications (e.g. more layers, less layers, more neurons/layer, etc.) to the model design, find a combination that is able to achieve **validation accuracy, that is higher than 53%**.\n"
      ],
      "metadata": {
        "id": "j1tGVPdD-pp3"
      }
    },
    {
      "cell_type": "code",
      "source": [
        "es = EarlyStopping(monitor='val_loss', restore_best_weights=True, patience=5)"
      ],
      "metadata": {
        "id": "5dBQxJHIHrbd"
      },
      "execution_count": 28,
      "outputs": []
    },
    {
      "cell_type": "code",
      "source": [
        "# model definition\n",
        "model = Sequential()\n",
        "model.add(Dense(128, activation='relu', kernel_initializer=HeNormal(), input_shape=(flattened_dim,)))\n",
        "model.add(Dropout(0.25))\n",
        "model.add(Dense(256, activation='relu', kernel_initializer=HeNormal()))\n",
        "model.add(Dropout(0.25))\n",
        "model.add(Dense(256, activation='relu', kernel_initializer=HeNormal()))\n",
        "model.add(Dropout(0.25))\n",
        "model.add(Dense(512, activation='relu', kernel_initializer=HeNormal()))\n",
        "model.add(Dense(nb_classes, activation='softmax'))\n",
        "\n",
        "# loss function and optimizer\n",
        "model.compile(loss='categorical_crossentropy', optimizer='adam', metrics=['accuracy'])"
      ],
      "metadata": {
        "id": "PuxHOqLt-3Nd"
      },
      "execution_count": 29,
      "outputs": []
    },
    {
      "cell_type": "code",
      "source": [
        "# training\n",
        "network_history = model.fit(X_train, Y_train,\n",
        "                            validation_data=(X_valid,Y_valid),\n",
        "                            batch_size=128,\n",
        "                            epochs=100,\n",
        "                            verbose=1,\n",
        "                            callbacks=[es])"
      ],
      "metadata": {
        "id": "u8tFNCNVHyt9",
        "colab": {
          "base_uri": "https://localhost:8080/"
        },
        "outputId": "e96c743a-a1b2-4a7c-cc55-b3f913519c48"
      },
      "execution_count": 35,
      "outputs": [
        {
          "output_type": "stream",
          "name": "stdout",
          "text": [
            "Epoch 1/100\n",
            "313/313 [==============================] - 4s 13ms/step - loss: 1.1572 - accuracy: 0.5872 - val_loss: 1.3541 - val_accuracy: 0.5256\n",
            "Epoch 2/100\n",
            "313/313 [==============================] - 2s 6ms/step - loss: 1.1604 - accuracy: 0.5879 - val_loss: 1.3454 - val_accuracy: 0.5303\n",
            "Epoch 3/100\n",
            "313/313 [==============================] - 2s 6ms/step - loss: 1.1515 - accuracy: 0.5880 - val_loss: 1.3369 - val_accuracy: 0.5304\n",
            "Epoch 4/100\n",
            "313/313 [==============================] - 2s 5ms/step - loss: 1.1511 - accuracy: 0.5889 - val_loss: 1.3351 - val_accuracy: 0.5305\n",
            "Epoch 5/100\n",
            "313/313 [==============================] - 2s 6ms/step - loss: 1.1492 - accuracy: 0.5923 - val_loss: 1.3344 - val_accuracy: 0.5355\n",
            "Epoch 6/100\n",
            "313/313 [==============================] - 2s 5ms/step - loss: 1.1353 - accuracy: 0.5989 - val_loss: 1.3527 - val_accuracy: 0.5224\n",
            "Epoch 7/100\n",
            "313/313 [==============================] - 2s 7ms/step - loss: 1.1316 - accuracy: 0.5957 - val_loss: 1.3420 - val_accuracy: 0.5316\n",
            "Epoch 8/100\n",
            "313/313 [==============================] - 2s 7ms/step - loss: 1.1237 - accuracy: 0.5987 - val_loss: 1.3377 - val_accuracy: 0.5302\n",
            "Epoch 9/100\n",
            "313/313 [==============================] - 2s 6ms/step - loss: 1.1273 - accuracy: 0.6003 - val_loss: 1.3385 - val_accuracy: 0.5332\n",
            "Epoch 10/100\n",
            "313/313 [==============================] - 2s 6ms/step - loss: 1.1125 - accuracy: 0.6032 - val_loss: 1.3517 - val_accuracy: 0.5314\n"
          ]
        }
      ]
    },
    {
      "cell_type": "markdown",
      "source": [
        "# 3. Evaluation on test data and inference\n",
        "At this point, we will perform a basic evaluation and inference. With the model.evaluate function, the same metrics are calculated, that were used during training:"
      ],
      "metadata": {
        "id": "2FtKp-a2-A9m"
      }
    },
    {
      "cell_type": "code",
      "source": [
        "print(model.evaluate(X_test, Y_test))"
      ],
      "metadata": {
        "id": "I3_9wgDREUna",
        "colab": {
          "base_uri": "https://localhost:8080/"
        },
        "outputId": "10ffcf03-8c26-403a-9648-f85497347275"
      },
      "execution_count": 36,
      "outputs": [
        {
          "output_type": "stream",
          "name": "stdout",
          "text": [
            "313/313 [==============================] - 1s 3ms/step - loss: 1.3263 - accuracy: 0.5330\n",
            "[1.3263078927993774, 0.5329999923706055]\n"
          ]
        }
      ]
    },
    {
      "cell_type": "markdown",
      "source": [
        "we would like to see similar values, as in the validation set. If those are close to each other, then the generalization ability of the model is good (in case of an independent test-set)."
      ],
      "metadata": {
        "id": "ECHguBFtGL7f"
      }
    },
    {
      "cell_type": "markdown",
      "source": [
        "## 3.1. Exercise\n",
        "Predict the class of the first 10 elements in the test set, and compare the predicted values with the actual, target values in the test set. Hints:\n",
        "* you can use [model.predict](https://www.activestate.com/resources/quick-reads/how-to-use-a-model-to-do-predictions-with-keras/) for prediction\n",
        "* from the output you can select the largest value with the [argmax() function of Numpy](https://stackoverflow.com/questions/62358642/convert-one-hot-encoding-back-to-number-label). As there are multiple values, you have to call it with axis=1 parameter.\n",
        "* it is enought to compare the predictions and the targets by printing the values out and inspecting them."
      ],
      "metadata": {
        "id": "0Io4zYJeHjz6"
      }
    },
    {
      "cell_type": "code",
      "source": [
        "preds = model.predict(X_test)\n",
        "preds_dense = np.argmax(preds, axis = 1)\n",
        "print(Y_test[:10])\n",
        "print(preds_dense[:10])"
      ],
      "metadata": {
        "id": "XEEyU7exILqF",
        "colab": {
          "base_uri": "https://localhost:8080/"
        },
        "outputId": "4d6910a5-4ea3-48e7-818b-09116f3add63"
      },
      "execution_count": 37,
      "outputs": [
        {
          "output_type": "stream",
          "name": "stdout",
          "text": [
            "313/313 [==============================] - 1s 2ms/step\n",
            "[[0. 0. 0. 1. 0. 0. 0. 0. 0. 0.]\n",
            " [0. 0. 0. 0. 0. 0. 0. 0. 1. 0.]\n",
            " [0. 0. 0. 0. 0. 0. 0. 0. 1. 0.]\n",
            " [1. 0. 0. 0. 0. 0. 0. 0. 0. 0.]\n",
            " [0. 0. 0. 0. 0. 0. 1. 0. 0. 0.]\n",
            " [0. 0. 0. 0. 0. 0. 1. 0. 0. 0.]\n",
            " [0. 1. 0. 0. 0. 0. 0. 0. 0. 0.]\n",
            " [0. 0. 0. 0. 0. 0. 1. 0. 0. 0.]\n",
            " [0. 0. 0. 1. 0. 0. 0. 0. 0. 0.]\n",
            " [0. 1. 0. 0. 0. 0. 0. 0. 0. 0.]]\n",
            "[3 8 8 4 6 6 3 6 5 1]\n"
          ]
        }
      ]
    },
    {
      "cell_type": "markdown",
      "source": [
        "Before comparision, you have to convert back the one-hot encoded target values the same way, as you converted the output of the neural network to class values with argmax() function."
      ],
      "metadata": {
        "id": "seZTEFI-I5cZ"
      }
    },
    {
      "cell_type": "code",
      "source": [
        "print(\"Target labels:\", np.argmax(Y_test[:10],axis=1))\n",
        "print(\"Predicted labels:\", np.argmax(Y_test[:10],axis=1))"
      ],
      "metadata": {
        "id": "PHLvoMuIIkJ6",
        "colab": {
          "base_uri": "https://localhost:8080/"
        },
        "outputId": "b140289b-4c7f-4877-9cb9-21b43df3b1f4"
      },
      "execution_count": 38,
      "outputs": [
        {
          "output_type": "stream",
          "name": "stdout",
          "text": [
            "Target labels: [3 8 8 0 6 6 1 6 3 1]\n",
            "Predicted labels: [3 8 8 0 6 6 1 6 3 1]\n"
          ]
        }
      ]
    }
  ]
}