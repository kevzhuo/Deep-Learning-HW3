{
  "nbformat": 4,
  "nbformat_minor": 0,
  "metadata": {
    "anaconda-cloud": {},
    "kernelspec": {
      "display_name": "Python 3",
      "language": "python",
      "name": "python3"
    },
    "language_info": {
      "codemirror_mode": {
        "name": "ipython",
        "version": 3
      },
      "file_extension": ".py",
      "mimetype": "text/x-python",
      "name": "python",
      "nbconvert_exporter": "python",
      "pygments_lexer": "ipython3",
      "version": "3.6.6"
    },
    "colab": {
      "provenance": [],
      "include_colab_link": true
    },
    "accelerator": "GPU"
  },
  "cells": [
    {
      "cell_type": "markdown",
      "metadata": {
        "id": "view-in-github",
        "colab_type": "text"
      },
      "source": [
        "<a href=\"https://colab.research.google.com/github/kevzhuo/Deep-Learning-HW3/blob/main/Kevin_Zhuo_Homework_3.ipynb\" target=\"_parent\"><img src=\"https://colab.research.google.com/assets/colab-badge.svg\" alt=\"Open In Colab\"/></a>"
      ]
    },
    {
      "cell_type": "markdown",
      "metadata": {
        "id": "cW-EyI5Lxpqi"
      },
      "source": [
        "# Copyright\n",
        "\n",
        "<PRE>\n",
        "Copyright (c) 2024 Bálint Gyires-Tóth - All Rights Reserved\n",
        "You may use and modify this code for research and development purpuses.\n",
        "Using this code for educational purposes (self-paced or instructor led) without the permission of the author is prohibited.\n",
        "</PRE>"
      ]
    },
    {
      "cell_type": "markdown",
      "source": [
        "# Example of data exploration, modeling, regulartion and prediction\n",
        "Our exercise today involves loading a standard dataset using TensorFlow Keras API, exploring the data, building a simple neural network, and evaluating the effects of basic methods (activation functions, regularization, weight initialization, etc.). We then perform predictions on the test set and inspect the results."
      ],
      "metadata": {
        "id": "3EX4cCa4WKJu"
      }
    },
    {
      "cell_type": "markdown",
      "source": [
        "# 1. Data\n",
        "The dataset we will use is the well-known CIFAR10 (Canadian Institute For Advanced Research). Explore the details on the Keras website first: https://keras.io/api/datasets/cifar10/\n",
        "\n",
        "After you explored the basic features of the data, let's load it into the memory and explore the shapes:"
      ],
      "metadata": {
        "id": "yY9fztIeWIKt"
      }
    },
    {
      "cell_type": "code",
      "source": [
        "from tensorflow.keras.datasets import cifar10\n",
        "from tensorflow.keras.utils import to_categorical\n",
        "import numpy as np"
      ],
      "metadata": {
        "id": "giRZKTjzX_7l"
      },
      "execution_count": 1,
      "outputs": []
    },
    {
      "cell_type": "code",
      "source": [
        "(X_train, Y_train), (X_test, Y_test) = cifar10.load_data()"
      ],
      "metadata": {
        "id": "bez7q0eiWQCK",
        "colab": {
          "base_uri": "https://localhost:8080/"
        },
        "outputId": "c0989a2b-5f02-46fa-fc5c-6a9e528eb576"
      },
      "execution_count": 2,
      "outputs": [
        {
          "output_type": "stream",
          "name": "stdout",
          "text": [
            "Downloading data from https://www.cs.toronto.edu/~kriz/cifar-10-python.tar.gz\n",
            "170498071/170498071 [==============================] - 6s 0us/step\n"
          ]
        }
      ]
    },
    {
      "cell_type": "code",
      "source": [
        "print(X_train.shape)\n",
        "print(X_test.shape)\n",
        "print(Y_train.shape)\n",
        "print(Y_test.shape)"
      ],
      "metadata": {
        "id": "2tJoRq5wXywi",
        "colab": {
          "base_uri": "https://localhost:8080/"
        },
        "outputId": "4901ad26-f655-4452-901f-8334ffe415ea"
      },
      "execution_count": 3,
      "outputs": [
        {
          "output_type": "stream",
          "name": "stdout",
          "text": [
            "(50000, 32, 32, 3)\n",
            "(10000, 32, 32, 3)\n",
            "(50000, 1)\n",
            "(10000, 1)\n"
          ]
        }
      ]
    },
    {
      "cell_type": "markdown",
      "source": [
        "## 1.1. Exercise\n",
        "Display the first ten images of the training data. Hints:\n",
        "* Axis 0 refers to the separate images, e.g. X_train[0]\n",
        "* You can use the [Matplotlib Pyplot imshow function](https://matplotlib.org/stable/api/_as_gen/matplotlib.pyplot.imshow.html) for displaying the image. Just don't forget to import Plotly first!\n",
        "* A corresponding example, but you have to modify the code for your purpose: https://stackoverflow.com/questions/46615554/how-to-display-multiple-images-in-one-figure-correctly"
      ],
      "metadata": {
        "id": "zTCSGFyDlNvf"
      }
    },
    {
      "cell_type": "code",
      "source": [
        "import matplotlib.pyplot as plt\n",
        "\n",
        "w = 10\n",
        "h = 10\n",
        "fig = plt.figure(figsize=(8, 4))\n",
        "columns = 5\n",
        "rows = 2\n",
        "for i in range(1, columns*rows+1):\n",
        "    fig.add_subplot(rows, columns, i)\n",
        "    img = X_train[i-1]\n",
        "    plt.imshow(img)\n",
        "    plt.axis(\"off\")\n",
        "    plt.title(Y_train[i-1])\n",
        "plt.show()"
      ],
      "metadata": {
        "id": "hIQhHTppmBdO",
        "colab": {
          "base_uri": "https://localhost:8080/",
          "height": 334
        },
        "outputId": "ec6bcc85-8bc8-4330-d57a-e24c9f3788f2"
      },
      "execution_count": 4,
      "outputs": [
        {
          "output_type": "display_data",
          "data": {
            "text/plain": [
              "<Figure size 800x400 with 10 Axes>"
            ],
            "image/png": "[encoded data removed]"
          },
          "metadata": {}
        }
      ]
    },
    {
      "cell_type": "markdown",
      "source": [
        "Print the corresponding labels of the displayed images from the target variable (Y_train):"
      ],
      "metadata": {
        "id": "FAQkUWlmm-bc"
      }
    },
    {
      "cell_type": "code",
      "source": [
        "dict = {0: \"airplane\", 1: \"automobile\", 2: \"bird\", 3: \"cat\", 4: \"deer\", 5: \"dog\", 6: \"frog\", 7: \"horse\", 8: \"ship\", 9: \"truck\"}\n",
        "for i in range(10):\n",
        "  print(\"Image \" + str(i) + \" = \" + str(np.argmax(Y_train[i])) + \" (\" + dict[np.argmax(Y_train[i])] + \")\")"
      ],
      "metadata": {
        "id": "AkOrWzghnJ78",
        "colab": {
          "base_uri": "https://localhost:8080/"
        },
        "outputId": "a44d45f7-7cd0-4515-cb23-5d442008b9ae"
      },
      "execution_count": 46,
      "outputs": [
        {
          "output_type": "stream",
          "name": "stdout",
          "text": [
            "Image 0 = 6 (frog)\n",
            "Image 1 = 9 (truck)\n",
            "Image 2 = 9 (truck)\n",
            "Image 3 = 4 (deer)\n",
            "Image 4 = 1 (automobile)\n",
            "Image 5 = 1 (automobile)\n",
            "Image 6 = 2 (bird)\n",
            "Image 7 = 7 (horse)\n",
            "Image 8 = 8 (ship)\n",
            "Image 9 = 3 (cat)\n"
          ]
        }
      ]
    },
    {
      "cell_type": "markdown",
      "source": [
        "## 1.2. Exercise\n",
        "We will train a Multi-Layer Perceptron (MLP), which requires a 2 dimensional input: 0th axis refers to the datapoints (i.e. images), the 1th dimens to the input. As images are 3 dimensional (width, height, color channels), you have to reshape the images into vectors. We also call this flattening.\n",
        "\n",
        "In order to do so, calculate the size of the equivalent 1D vector of the image:"
      ],
      "metadata": {
        "id": "VX24g5FstsRU"
      }
    },
    {
      "cell_type": "code",
      "source": [
        "flattened_dim = X_train[0].shape[0] * X_train[0].shape[1] * X_train[0].shape[2]\n",
        "print(flattened_dim)"
      ],
      "metadata": {
        "id": "hdoMyxHzuXZG",
        "colab": {
          "base_uri": "https://localhost:8080/"
        },
        "outputId": "33f8456b-e9d4-4343-fe52-42e04e9324a4"
      },
      "execution_count": 6,
      "outputs": [
        {
          "output_type": "stream",
          "name": "stdout",
          "text": [
            "3072\n"
          ]
        }
      ]
    },
    {
      "cell_type": "markdown",
      "source": [
        "After you calculated it, we can reshape the images, and covert the integer arrays into float arrays -- which are needed for the neural networks as input. Hint:\n",
        "* in the [reshape() function of Numpy](https://www.w3schools.com/python/numpy/numpy_array_reshape.asp) you can use -1 for one axis, to automatically calculate that value."
      ],
      "metadata": {
        "id": "WbqXJUSFubeC"
      }
    },
    {
      "cell_type": "code",
      "source": [
        "# reshape 3D tensors to 2D tensors\n",
        "X_train = X_train.reshape(X_train.shape[0], -1)\n",
        "X_test = X_test.reshape(X_test.shape[0], -1)\n",
        "\n",
        "# it is in int8 format, the neural network requires float32\n",
        "X_train = X_train.astype(\"float32\")\n",
        "X_test = X_test.astype(\"float32\")"
      ],
      "metadata": {
        "id": "vukOcBM0XzSj"
      },
      "execution_count": 7,
      "outputs": []
    },
    {
      "cell_type": "markdown",
      "source": [
        "## 1.3. Exercise\n",
        "As the next step, let's split the training data into training and validation data. 80% of the original training data should be the final training data, and 20% the validation.\n",
        "You should use Numpy indexing to select the first 80% of X_train as final X_train, and the last 20% as X_valid. Hints:\n",
        "* https://datascienceparichay.com/article/numpy-array-first-n-rows/\n",
        "* https://datascienceparichay.com/article/numpy-array-last-n-rows/"
      ],
      "metadata": {
        "id": "DO79AdIdvVfD"
      }
    },
    {
      "cell_type": "code",
      "source": [
        "train_ratio  = 0.8\n",
        "train_length = len(X_train) # length of the training data\n",
        "train_split  = int(train_ratio * train_length) # where to split the training and validation data\n",
        "X_valid, Y_valid = X_train[train_split:], Y_train[train_split:]\n",
        "X_train, Y_train = X_train[:train_split], Y_train[:train_split]"
      ],
      "metadata": {
        "id": "mRwuWxxIxLgN"
      },
      "execution_count": 8,
      "outputs": []
    },
    {
      "cell_type": "markdown",
      "source": [
        "## 1.4. Exercise\n",
        "As the last step of input data preparation, the data should be standardized. Calculate the mean and variance of the training data (elementvise -- so for each value of the flattened image you should get a mean and variance for the training data along 0th axis). Hint:\n",
        "* https://stackoverflow.com/questions/70626231/how-to-calculate-mean-variance-standard-deviation-per-index-of-array"
      ],
      "metadata": {
        "id": "z05y_QWDxWER"
      }
    },
    {
      "cell_type": "code",
      "source": [
        "mean = np.mean(X_train, axis = 0)\n",
        "std  = np.std(X_train, axis = 0)"
      ],
      "metadata": {
        "id": "TSZbvWCBx8Ea"
      },
      "execution_count": 9,
      "outputs": []
    },
    {
      "cell_type": "markdown",
      "source": [
        "Next, use the resulting values to standardize the training, validation and test data by substracting the mean and dividing the result with the standard deviation."
      ],
      "metadata": {
        "id": "6WRHKkkjyN1S"
      }
    },
    {
      "cell_type": "code",
      "source": [
        "X_train = (X_train - mean)/std\n",
        "X_valid = (X_valid - mean)/std\n",
        "X_test  = (X_test - mean)/std"
      ],
      "metadata": {
        "id": "2ESLP1EIyB2J"
      },
      "execution_count": 10,
      "outputs": []
    },
    {
      "cell_type": "markdown",
      "source": [
        "## 1.5. Exercise\n",
        "And as the last step, convert the dense representation of the classes (i.e. 0,1,2,3...9) to one-hot encoding (0 = [1 0 0 0 0 0 0 0 0 0], 1 = [0 1 0 0 0 0 0 0 0 0] ... 9 = [0 0 0 0 0 0 0 0 0 1]). To do this, first, calculate the number of unique elements in the target training data. Hints:\n",
        "* use the [unique() function](https://numpy.org/doc/stable/reference/generated/numpy.unique.html) of Numpy to list the unique elements\n",
        "* you can count the number of elements in a list with the [len() function](https://www.w3schools.com/python/ref_func_len.asp)"
      ],
      "metadata": {
        "id": "ooHCnUin7r4o"
      }
    },
    {
      "cell_type": "code",
      "source": [
        "nb_classes = len(np.unique(Y_train))"
      ],
      "metadata": {
        "id": "i0LAO9cs8KEE"
      },
      "execution_count": 11,
      "outputs": []
    },
    {
      "cell_type": "markdown",
      "source": [
        "Doublecheck, if the same number of classes exists in the validation and test target data:"
      ],
      "metadata": {
        "id": "BvM6XhGe8JU9"
      }
    },
    {
      "cell_type": "code",
      "source": [
        "print(\"Validation data has the same number of classes, as the training data:\", nb_classes == len(np.unique(Y_valid)))\n",
        "print(\"Test data has the same number of classes, as the training data:\", nb_classes == len(np.unique(Y_test)))"
      ],
      "metadata": {
        "id": "eZFNSsyx_Py2",
        "colab": {
          "base_uri": "https://localhost:8080/"
        },
        "outputId": "a8d55d81-1401-433a-df7e-b41539c7d060"
      },
      "execution_count": 12,
      "outputs": [
        {
          "output_type": "stream",
          "name": "stdout",
          "text": [
            "Validation data has the same number of classes, as the training data: True\n",
            "Test data has the same number of classes, as the training data: True\n"
          ]
        }
      ]
    },
    {
      "cell_type": "markdown",
      "source": [
        "And convert the dense representation into one-hot encoding. Hint:\n",
        "* use the [to_categorical function](https://www.tensorflow.org/api_docs/python/tf/keras/utils/to_categorical) with the calculated nb_classes\n"
      ],
      "metadata": {
        "id": "mJM-iBmR8dLe"
      }
    },
    {
      "cell_type": "code",
      "source": [
        "Y_train = to_categorical(Y_train, num_classes = nb_classes)\n",
        "Y_valid = to_categorical(Y_valid, num_classes = nb_classes)\n",
        "Y_test  = to_categorical(Y_test, num_classes = nb_classes)"
      ],
      "metadata": {
        "id": "xwZ4OJ6I8lba"
      },
      "execution_count": 13,
      "outputs": []
    },
    {
      "cell_type": "markdown",
      "source": [
        "## Final check of data preparation\n",
        "Now, lets check the shapes and mean and standard deviation of the training, validation and test data."
      ],
      "metadata": {
        "id": "LshN2OSsv3TZ"
      }
    },
    {
      "cell_type": "code",
      "source": [
        "print(\"Shapes of the training, validation and test input data:\", X_train.shape, X_valid.shape, X_test.shape)\n",
        "print(\"Shapes of the training, validation and test output data:\", Y_train.shape, Y_valid.shape, Y_test.shape)\n",
        "print(\"Mean values of the training, validation and test input data:\", X_train.mean(), X_valid.mean(), X_test.mean())\n",
        "print(\"Standard deviation of the training, validation and test input data:\", X_train.std(), X_valid.std(), X_test.std())"
      ],
      "metadata": {
        "id": "O_jdJVcvX0vi",
        "colab": {
          "base_uri": "https://localhost:8080/"
        },
        "outputId": "084c4dbc-52c0-4249-a7ff-a9b0c9f14802"
      },
      "execution_count": 14,
      "outputs": [
        {
          "output_type": "stream",
          "name": "stdout",
          "text": [
            "Shapes of the training, validation and test input data: (40000, 3072) (10000, 3072) (10000, 3072)\n",
            "Shapes of the training, validation and test output data: (40000, 10) (10000, 10) (10000, 10)\n",
            "Mean values of the training, validation and test input data: -2.4725992e-09 0.0023437182 0.013331188\n",
            "Standard deviation of the training, validation and test input data: 1.0000038 0.99656224 0.9978297\n"
          ]
        }
      ]
    },
    {
      "cell_type": "markdown",
      "source": [
        "Don't worry, if the mean and standard deviation of the validation and test data are not exactly 0 and 1, but these might be very mear to it (e.g. 0.01 mean, 0.99 variance)."
      ],
      "metadata": {
        "id": "5GtAOOoezmZY"
      }
    },
    {
      "cell_type": "markdown",
      "metadata": {
        "id": "cJ14oyZExpqj"
      },
      "source": [
        "# 2. Training"
      ]
    },
    {
      "cell_type": "markdown",
      "metadata": {
        "id": "s4ZXYRMBxpql"
      },
      "source": [
        "Let us begin with a simple example of creating a small neural network without regularization and training it with actual data. The purpose of this is to provide you with an example as to how to proceed with the next exercise."
      ]
    },
    {
      "cell_type": "code",
      "source": [
        "# imports\n",
        "import numpy as np\n",
        "import matplotlib.pyplot as plt\n",
        "from tensorflow.keras.models import Sequential\n",
        "from tensorflow.keras.layers import Dense, Embedding, Flatten, Dropout\n",
        "from tensorflow.keras.initializers import HeNormal\n",
        "from tensorflow.keras.callbacks import EarlyStopping"
      ],
      "metadata": {
        "id": "6-8Q6ll7ZDgq"
      },
      "execution_count": 15,
      "outputs": []
    },
    {
      "cell_type": "code",
      "source": [
        "# model definition\n",
        "model = Sequential()\n",
        "model.add(Dense(128, activation='tanh', input_shape=(flattened_dim,)))\n",
        "model.add(Dense(128, activation='tanh'))\n",
        "model.add(Dense(nb_classes, activation='softmax'))\n",
        "\n",
        "# loss function and optimizer\n",
        "model.compile(loss='categorical_crossentropy', optimizer='adam', metrics=['accuracy'])"
      ],
      "metadata": {
        "id": "pke6w3CD8DHp"
      },
      "execution_count": 16,
      "outputs": []
    },
    {
      "cell_type": "code",
      "metadata": {
        "id": "CZbOR76QxprC",
        "colab": {
          "base_uri": "https://localhost:8080/"
        },
        "outputId": "50cd02f8-a057-4762-8564-7ac6e9c729ee"
      },
      "source": [
        "# training\n",
        "network_history = model.fit(X_train, Y_train,\n",
        "                            validation_data=(X_valid,Y_valid),\n",
        "                            batch_size=128,\n",
        "                            epochs=40,\n",
        "                            verbose=1)"
      ],
      "execution_count": 17,
      "outputs": [
        {
          "output_type": "stream",
          "name": "stdout",
          "text": [
            "Epoch 1/40\n",
            "313/313 [==============================] - 8s 22ms/step - loss: 1.8192 - accuracy: 0.3629 - val_loss: 1.7744 - val_accuracy: 0.3833\n",
            "Epoch 2/40\n",
            "313/313 [==============================] - 5s 16ms/step - loss: 1.6944 - accuracy: 0.4126 - val_loss: 1.7257 - val_accuracy: 0.4009\n",
            "Epoch 3/40\n",
            "313/313 [==============================] - 6s 20ms/step - loss: 1.6401 - accuracy: 0.4307 - val_loss: 1.6938 - val_accuracy: 0.4193\n",
            "Epoch 4/40\n",
            "313/313 [==============================] - 5s 15ms/step - loss: 1.5910 - accuracy: 0.4505 - val_loss: 1.6859 - val_accuracy: 0.4195\n",
            "Epoch 5/40\n",
            "313/313 [==============================] - 6s 20ms/step - loss: 1.5608 - accuracy: 0.4615 - val_loss: 1.6792 - val_accuracy: 0.4198\n",
            "Epoch 6/40\n",
            "313/313 [==============================] - 6s 19ms/step - loss: 1.5323 - accuracy: 0.4684 - val_loss: 1.6596 - val_accuracy: 0.4317\n",
            "Epoch 7/40\n",
            "313/313 [==============================] - 5s 15ms/step - loss: 1.5026 - accuracy: 0.4806 - val_loss: 1.6560 - val_accuracy: 0.4325\n",
            "Epoch 8/40\n",
            "313/313 [==============================] - 6s 19ms/step - loss: 1.4759 - accuracy: 0.4883 - val_loss: 1.6381 - val_accuracy: 0.4384\n",
            "Epoch 9/40\n",
            "313/313 [==============================] - 5s 15ms/step - loss: 1.4493 - accuracy: 0.4968 - val_loss: 1.6278 - val_accuracy: 0.4393\n",
            "Epoch 10/40\n",
            "313/313 [==============================] - 6s 18ms/step - loss: 1.4218 - accuracy: 0.5078 - val_loss: 1.6320 - val_accuracy: 0.4413\n",
            "Epoch 11/40\n",
            "313/313 [==============================] - 5s 16ms/step - loss: 1.4023 - accuracy: 0.5157 - val_loss: 1.6185 - val_accuracy: 0.4430\n",
            "Epoch 12/40\n",
            "313/313 [==============================] - 5s 16ms/step - loss: 1.3779 - accuracy: 0.5212 - val_loss: 1.6223 - val_accuracy: 0.4375\n",
            "Epoch 13/40\n",
            "313/313 [==============================] - 6s 19ms/step - loss: 1.3530 - accuracy: 0.5308 - val_loss: 1.6175 - val_accuracy: 0.4446\n",
            "Epoch 14/40\n",
            "313/313 [==============================] - 5s 15ms/step - loss: 1.3397 - accuracy: 0.5336 - val_loss: 1.6271 - val_accuracy: 0.4459\n",
            "Epoch 15/40\n",
            "313/313 [==============================] - 6s 19ms/step - loss: 1.3194 - accuracy: 0.5437 - val_loss: 1.6268 - val_accuracy: 0.4453\n",
            "Epoch 16/40\n",
            "313/313 [==============================] - 5s 16ms/step - loss: 1.2965 - accuracy: 0.5501 - val_loss: 1.6127 - val_accuracy: 0.4508\n",
            "Epoch 17/40\n",
            "313/313 [==============================] - 5s 15ms/step - loss: 1.2736 - accuracy: 0.5576 - val_loss: 1.6341 - val_accuracy: 0.4458\n",
            "Epoch 18/40\n",
            "313/313 [==============================] - 6s 20ms/step - loss: 1.2598 - accuracy: 0.5620 - val_loss: 1.6320 - val_accuracy: 0.4499\n",
            "Epoch 19/40\n",
            "313/313 [==============================] - 5s 16ms/step - loss: 1.2300 - accuracy: 0.5718 - val_loss: 1.6389 - val_accuracy: 0.4461\n",
            "Epoch 20/40\n",
            "313/313 [==============================] - 6s 19ms/step - loss: 1.2244 - accuracy: 0.5760 - val_loss: 1.6434 - val_accuracy: 0.4459\n",
            "Epoch 21/40\n",
            "313/313 [==============================] - 6s 18ms/step - loss: 1.1984 - accuracy: 0.5842 - val_loss: 1.6427 - val_accuracy: 0.4504\n",
            "Epoch 22/40\n",
            "313/313 [==============================] - 6s 18ms/step - loss: 1.1804 - accuracy: 0.5908 - val_loss: 1.6383 - val_accuracy: 0.4568\n",
            "Epoch 23/40\n",
            "313/313 [==============================] - 5s 16ms/step - loss: 1.1627 - accuracy: 0.5967 - val_loss: 1.6659 - val_accuracy: 0.4510\n",
            "Epoch 24/40\n",
            "313/313 [==============================] - 5s 16ms/step - loss: 1.1462 - accuracy: 0.6009 - val_loss: 1.6704 - val_accuracy: 0.4462\n",
            "Epoch 25/40\n",
            "313/313 [==============================] - 6s 19ms/step - loss: 1.1335 - accuracy: 0.6076 - val_loss: 1.6642 - val_accuracy: 0.4521\n",
            "Epoch 26/40\n",
            "313/313 [==============================] - 5s 16ms/step - loss: 1.1119 - accuracy: 0.6170 - val_loss: 1.6676 - val_accuracy: 0.4494\n",
            "Epoch 27/40\n",
            "313/313 [==============================] - 5s 17ms/step - loss: 1.0933 - accuracy: 0.6215 - val_loss: 1.6863 - val_accuracy: 0.4479\n",
            "Epoch 28/40\n",
            "313/313 [==============================] - 6s 18ms/step - loss: 1.0735 - accuracy: 0.6297 - val_loss: 1.7075 - val_accuracy: 0.4461\n",
            "Epoch 29/40\n",
            "313/313 [==============================] - 5s 16ms/step - loss: 1.0616 - accuracy: 0.6296 - val_loss: 1.7162 - val_accuracy: 0.4461\n",
            "Epoch 30/40\n",
            "313/313 [==============================] - 6s 19ms/step - loss: 1.0446 - accuracy: 0.6384 - val_loss: 1.7197 - val_accuracy: 0.4473\n",
            "Epoch 31/40\n",
            "313/313 [==============================] - 5s 16ms/step - loss: 1.0294 - accuracy: 0.6442 - val_loss: 1.7404 - val_accuracy: 0.4493\n",
            "Epoch 32/40\n",
            "313/313 [==============================] - 6s 19ms/step - loss: 1.0134 - accuracy: 0.6509 - val_loss: 1.7561 - val_accuracy: 0.4440\n",
            "Epoch 33/40\n",
            "313/313 [==============================] - 5s 17ms/step - loss: 0.9939 - accuracy: 0.6556 - val_loss: 1.7476 - val_accuracy: 0.4520\n",
            "Epoch 34/40\n",
            "313/313 [==============================] - 5s 16ms/step - loss: 0.9817 - accuracy: 0.6612 - val_loss: 1.7593 - val_accuracy: 0.4465\n",
            "Epoch 35/40\n",
            "313/313 [==============================] - 6s 19ms/step - loss: 0.9708 - accuracy: 0.6622 - val_loss: 1.7657 - val_accuracy: 0.4448\n",
            "Epoch 36/40\n",
            "313/313 [==============================] - 5s 15ms/step - loss: 0.9497 - accuracy: 0.6722 - val_loss: 1.7828 - val_accuracy: 0.4503\n",
            "Epoch 37/40\n",
            "313/313 [==============================] - 6s 20ms/step - loss: 0.9432 - accuracy: 0.6736 - val_loss: 1.8082 - val_accuracy: 0.4383\n",
            "Epoch 38/40\n",
            "313/313 [==============================] - 5s 15ms/step - loss: 0.9221 - accuracy: 0.6813 - val_loss: 1.8116 - val_accuracy: 0.4428\n",
            "Epoch 39/40\n",
            "313/313 [==============================] - 5s 16ms/step - loss: 0.9060 - accuracy: 0.6876 - val_loss: 1.8085 - val_accuracy: 0.4477\n",
            "Epoch 40/40\n",
            "313/313 [==============================] - 6s 19ms/step - loss: 0.9072 - accuracy: 0.6888 - val_loss: 1.8320 - val_accuracy: 0.4368\n"
          ]
        }
      ]
    },
    {
      "cell_type": "markdown",
      "metadata": {
        "id": "uFqhzV85xprJ"
      },
      "source": [
        "Let's plot the training and validation loss and accuracy curves:"
      ]
    },
    {
      "cell_type": "code",
      "metadata": {
        "id": "BYmXGkLCxprK",
        "colab": {
          "base_uri": "https://localhost:8080/",
          "height": 882
        },
        "outputId": "bc915067-f838-44d6-cde0-821de4523a79"
      },
      "source": [
        "def plot_history(network_history):\n",
        "    plt.figure()\n",
        "    plt.xlabel('Epochs')\n",
        "    plt.ylabel('Loss')\n",
        "    plt.plot(network_history.history['loss'])\n",
        "    plt.plot(network_history.history['val_loss'])\n",
        "    plt.legend(['Training', 'Validation'])\n",
        "\n",
        "    plt.figure()\n",
        "    plt.xlabel('Epochs')\n",
        "    plt.ylabel('Accuracy')\n",
        "    plt.plot(network_history.history['accuracy'])\n",
        "    plt.plot(network_history.history['val_accuracy'])\n",
        "    plt.legend(['Training', 'Validation'], loc='lower right')\n",
        "    plt.show()\n",
        "\n",
        "plot_history(network_history)"
      ],
      "execution_count": 18,
      "outputs": [
        {
          "output_type": "display_data",
          "data": {
            "text/plain": [
              "<Figure size 640x480 with 1 Axes>"
            ],
            "image/png": "[encoded data removed]"
          },
          "metadata": {}
        },
        {
          "output_type": "display_data",
          "data": {
            "text/plain": [
              "<Figure size 640x480 with 1 Axes>"
            ],
            "image/png": "[encoded data removed]"
          },
          "metadata": {}
        }
      ]
    },
    {
      "cell_type": "markdown",
      "source": [
        "What do you think? Does it overfit?\n",
        "\n",
        "Yes, the model does overfit because the training loss goes down very low but the validation loss does not decrease. Similarly, the training accuracy continiously rises but the validation accuracy is low and below 50%."
      ],
      "metadata": {
        "id": "tgG7QeXF-dx6"
      }
    },
    {
      "cell_type": "markdown",
      "metadata": {
        "id": "_Q9rIeBBxprO"
      },
      "source": [
        "# Inspecting the model"
      ]
    },
    {
      "cell_type": "code",
      "metadata": {
        "id": "6r2AmmoMxprP",
        "colab": {
          "base_uri": "https://localhost:8080/"
        },
        "outputId": "29d11246-da66-4219-cc7d-1546b9427c29"
      },
      "source": [
        "model.summary()"
      ],
      "execution_count": 19,
      "outputs": [
        {
          "output_type": "stream",
          "name": "stdout",
          "text": [
            "Model: \"sequential\"\n",
            "_________________________________________________________________\n",
            " Layer (type)                Output Shape              Param #   \n",
            "=================================================================\n",
            " dense (Dense)               (None, 128)               393344    \n",
            "                                                                 \n",
            " dense_1 (Dense)             (None, 128)               16512     \n",
            "                                                                 \n",
            " dense_2 (Dense)             (None, 10)                1290      \n",
            "                                                                 \n",
            "=================================================================\n",
            "Total params: 411146 (1.57 MB)\n",
            "Trainable params: 411146 (1.57 MB)\n",
            "Non-trainable params: 0 (0.00 Byte)\n",
            "_________________________________________________________________\n"
          ]
        }
      ]
    },
    {
      "cell_type": "code",
      "metadata": {
        "id": "D3-bVDVuxprS",
        "colab": {
          "base_uri": "https://localhost:8080/"
        },
        "outputId": "20954ad3-5f46-43ae-8231-0a36d9b4a760"
      },
      "source": [
        "print('Input: ', model.input)"
      ],
      "execution_count": 20,
      "outputs": [
        {
          "output_type": "stream",
          "name": "stdout",
          "text": [
            "Input:  KerasTensor(type_spec=TensorSpec(shape=(None, 3072), dtype=tf.float32, name='dense_input'), name='dense_input', description=\"created by layer 'dense_input'\")\n"
          ]
        }
      ]
    },
    {
      "cell_type": "code",
      "metadata": {
        "id": "Da2OJ3DmxprX",
        "colab": {
          "base_uri": "https://localhost:8080/"
        },
        "outputId": "4dd5918e-5164-467d-d037-598aea555ae6"
      },
      "source": [
        "print('Layers:\\n')\n",
        "for layer in model.layers:\n",
        "    print(\"Layer's name: \", layer.name, ', trainable: ', layer.trainable)\n",
        "    print(layer.get_config(),'\\n')"
      ],
      "execution_count": 21,
      "outputs": [
        {
          "output_type": "stream",
          "name": "stdout",
          "text": [
            "Layers:\n",
            "\n",
            "Layer's name:  dense , trainable:  True\n",
            "{'name': 'dense', 'trainable': True, 'dtype': 'float32', 'batch_input_shape': (None, 3072), 'units': 128, 'activation': 'tanh', 'use_bias': True, 'kernel_initializer': {'module': 'keras.initializers', 'class_name': 'GlorotUniform', 'config': {'seed': None}, 'registered_name': None}, 'bias_initializer': {'module': 'keras.initializers', 'class_name': 'Zeros', 'config': {}, 'registered_name': None}, 'kernel_regularizer': None, 'bias_regularizer': None, 'activity_regularizer': None, 'kernel_constraint': None, 'bias_constraint': None} \n",
            "\n",
            "Layer's name:  dense_1 , trainable:  True\n",
            "{'name': 'dense_1', 'trainable': True, 'dtype': 'float32', 'units': 128, 'activation': 'tanh', 'use_bias': True, 'kernel_initializer': {'module': 'keras.initializers', 'class_name': 'GlorotUniform', 'config': {'seed': None}, 'registered_name': None}, 'bias_initializer': {'module': 'keras.initializers', 'class_name': 'Zeros', 'config': {}, 'registered_name': None}, 'kernel_regularizer': None, 'bias_regularizer': None, 'activity_regularizer': None, 'kernel_constraint': None, 'bias_constraint': None} \n",
            "\n",
            "Layer's name:  dense_2 , trainable:  True\n",
            "{'name': 'dense_2', 'trainable': True, 'dtype': 'float32', 'units': 10, 'activation': 'softmax', 'use_bias': True, 'kernel_initializer': {'module': 'keras.initializers', 'class_name': 'GlorotUniform', 'config': {'seed': None}, 'registered_name': None}, 'bias_initializer': {'module': 'keras.initializers', 'class_name': 'Zeros', 'config': {}, 'registered_name': None}, 'kernel_regularizer': None, 'bias_regularizer': None, 'activity_regularizer': None, 'kernel_constraint': None, 'bias_constraint': None} \n",
            "\n"
          ]
        }
      ]
    },
    {
      "cell_type": "code",
      "metadata": {
        "id": "AtVX3M3lxprc",
        "colab": {
          "base_uri": "https://localhost:8080/"
        },
        "outputId": "415832ff-2ceb-4fcb-9d0f-96e0c7b36b45"
      },
      "source": [
        "print('Output: ', model.output)"
      ],
      "execution_count": 22,
      "outputs": [
        {
          "output_type": "stream",
          "name": "stdout",
          "text": [
            "Output:  KerasTensor(type_spec=TensorSpec(shape=(None, 10), dtype=tf.float32, name=None), name='dense_2/Softmax:0', description=\"created by layer 'dense_2'\")\n"
          ]
        }
      ]
    },
    {
      "cell_type": "markdown",
      "source": [
        "## 2.1. Exercise\n",
        "Introduce [early stopping](https://www.tensorflow.org/api_docs/python/tf/keras/callbacks/EarlyStopping) and [dropout](https://www.tensorflow.org/api_docs/python/tf/keras/layers/Dropout) with a rate between 0.1..0.5. Tips:\n",
        "\n",
        "* Insert the dropout layer between the two Dense layers.\n",
        "* Set the patience of early stopping to 5.\n",
        "* Set the number of epochs to a very high number.\n",
        "* Don't forget to restore best weights after early stopping.\n",
        "* And also set early stopping to monitor validation accuracy (the default value is validation loss -- which is categorical crossentropy now).\n",
        "\n",
        "Compile and train the model. Attempt to increase the validation accuracy as much as possible by making changes to the dropout rate. Inspect the effects of the modifications."
      ],
      "metadata": {
        "id": "E-hHfs9qA_iO"
      }
    },
    {
      "cell_type": "code",
      "source": [
        "es = EarlyStopping(monitor='val_loss', restore_best_weights=True, patience=5)"
      ],
      "metadata": {
        "id": "NwXrPzOgEBG-"
      },
      "execution_count": 23,
      "outputs": []
    },
    {
      "cell_type": "code",
      "source": [
        "# model definition with dropout\n",
        "model = Sequential()\n",
        "model.add(Dense(128, activation='tanh', input_shape=(flattened_dim,)))\n",
        "model.add(Dropout(0.4))\n",
        "model.add(Dense(128, activation='tanh'))\n",
        "model.add(Dense(nb_classes, activation='softmax'))\n",
        "\n",
        "# loss function and optimizer\n",
        "model.compile(loss='categorical_crossentropy', optimizer='adam', metrics=['accuracy'])"
      ],
      "metadata": {
        "id": "7hZEGzj8GFwP"
      },
      "execution_count": 24,
      "outputs": []
    },
    {
      "cell_type": "code",
      "source": [
        "# training with early stopping\n",
        "network_history = model.fit(X_train, Y_train,\n",
        "                            validation_data=(X_valid,Y_valid),\n",
        "                            batch_size=128,\n",
        "                            epochs=100,\n",
        "                            verbose=1,\n",
        "                            callbacks=[es])"
      ],
      "metadata": {
        "id": "GCG54R-vGGWj",
        "colab": {
          "base_uri": "https://localhost:8080/"
        },
        "outputId": "bfd353fd-4391-4cf0-f4a5-95bacd1b880b"
      },
      "execution_count": 25,
      "outputs": [
        {
          "output_type": "stream",
          "name": "stdout",
          "text": [
            "Epoch 1/100\n",
            "313/313 [==============================] - 6s 18ms/step - loss: 1.9196 - accuracy: 0.3222 - val_loss: 1.7815 - val_accuracy: 0.3787\n",
            "Epoch 2/100\n",
            "313/313 [==============================] - 6s 19ms/step - loss: 1.8158 - accuracy: 0.3594 - val_loss: 1.7496 - val_accuracy: 0.3889\n",
            "Epoch 3/100\n",
            "313/313 [==============================] - 5s 16ms/step - loss: 1.7768 - accuracy: 0.3765 - val_loss: 1.7377 - val_accuracy: 0.3904\n",
            "Epoch 4/100\n",
            "313/313 [==============================] - 6s 19ms/step - loss: 1.7462 - accuracy: 0.3898 - val_loss: 1.7075 - val_accuracy: 0.4076\n",
            "Epoch 5/100\n",
            "313/313 [==============================] - 5s 17ms/step - loss: 1.7239 - accuracy: 0.3981 - val_loss: 1.6953 - val_accuracy: 0.4108\n",
            "Epoch 6/100\n",
            "313/313 [==============================] - 6s 19ms/step - loss: 1.7024 - accuracy: 0.4026 - val_loss: 1.6742 - val_accuracy: 0.4184\n",
            "Epoch 7/100\n",
            "313/313 [==============================] - 5s 17ms/step - loss: 1.6831 - accuracy: 0.4121 - val_loss: 1.6680 - val_accuracy: 0.4243\n",
            "Epoch 8/100\n",
            "313/313 [==============================] - 5s 16ms/step - loss: 1.6688 - accuracy: 0.4155 - val_loss: 1.6552 - val_accuracy: 0.4240\n",
            "Epoch 9/100\n",
            "313/313 [==============================] - 6s 19ms/step - loss: 1.6510 - accuracy: 0.4218 - val_loss: 1.6401 - val_accuracy: 0.4328\n",
            "Epoch 10/100\n",
            "313/313 [==============================] - 5s 16ms/step - loss: 1.6400 - accuracy: 0.4265 - val_loss: 1.6407 - val_accuracy: 0.4309\n",
            "Epoch 11/100\n",
            "313/313 [==============================] - 6s 19ms/step - loss: 1.6244 - accuracy: 0.4314 - val_loss: 1.6151 - val_accuracy: 0.4373\n",
            "Epoch 12/100\n",
            "313/313 [==============================] - 5s 16ms/step - loss: 1.6115 - accuracy: 0.4360 - val_loss: 1.6147 - val_accuracy: 0.4382\n",
            "Epoch 13/100\n",
            "313/313 [==============================] - 5s 16ms/step - loss: 1.6007 - accuracy: 0.4395 - val_loss: 1.6037 - val_accuracy: 0.4397\n",
            "Epoch 14/100\n",
            "313/313 [==============================] - 6s 20ms/step - loss: 1.5928 - accuracy: 0.4402 - val_loss: 1.5970 - val_accuracy: 0.4461\n",
            "Epoch 15/100\n",
            "313/313 [==============================] - 5s 16ms/step - loss: 1.5792 - accuracy: 0.4458 - val_loss: 1.5887 - val_accuracy: 0.4462\n",
            "Epoch 16/100\n",
            "313/313 [==============================] - 6s 20ms/step - loss: 1.5700 - accuracy: 0.4503 - val_loss: 1.5739 - val_accuracy: 0.4521\n",
            "Epoch 17/100\n",
            "313/313 [==============================] - 5s 16ms/step - loss: 1.5591 - accuracy: 0.4525 - val_loss: 1.5797 - val_accuracy: 0.4505\n",
            "Epoch 18/100\n",
            "313/313 [==============================] - 6s 18ms/step - loss: 1.5490 - accuracy: 0.4560 - val_loss: 1.5625 - val_accuracy: 0.4515\n",
            "Epoch 19/100\n",
            "313/313 [==============================] - 5s 17ms/step - loss: 1.5452 - accuracy: 0.4563 - val_loss: 1.5613 - val_accuracy: 0.4498\n",
            "Epoch 20/100\n",
            "313/313 [==============================] - 5s 15ms/step - loss: 1.5366 - accuracy: 0.4588 - val_loss: 1.5562 - val_accuracy: 0.4530\n",
            "Epoch 21/100\n",
            "313/313 [==============================] - 6s 20ms/step - loss: 1.5285 - accuracy: 0.4622 - val_loss: 1.5458 - val_accuracy: 0.4587\n",
            "Epoch 22/100\n",
            "313/313 [==============================] - 5s 17ms/step - loss: 1.5191 - accuracy: 0.4631 - val_loss: 1.5444 - val_accuracy: 0.4567\n",
            "Epoch 23/100\n",
            "313/313 [==============================] - 6s 19ms/step - loss: 1.5122 - accuracy: 0.4688 - val_loss: 1.5372 - val_accuracy: 0.4635\n",
            "Epoch 24/100\n",
            "313/313 [==============================] - 5s 16ms/step - loss: 1.5056 - accuracy: 0.4691 - val_loss: 1.5353 - val_accuracy: 0.4610\n",
            "Epoch 25/100\n",
            "313/313 [==============================] - 5s 16ms/step - loss: 1.5061 - accuracy: 0.4663 - val_loss: 1.5353 - val_accuracy: 0.4602\n",
            "Epoch 26/100\n",
            "313/313 [==============================] - 6s 19ms/step - loss: 1.5001 - accuracy: 0.4706 - val_loss: 1.5321 - val_accuracy: 0.4612\n",
            "Epoch 27/100\n",
            "313/313 [==============================] - 5s 16ms/step - loss: 1.4901 - accuracy: 0.4735 - val_loss: 1.5206 - val_accuracy: 0.4671\n",
            "Epoch 28/100\n",
            "313/313 [==============================] - 6s 19ms/step - loss: 1.4836 - accuracy: 0.4769 - val_loss: 1.5220 - val_accuracy: 0.4674\n",
            "Epoch 29/100\n",
            "313/313 [==============================] - 5s 16ms/step - loss: 1.4774 - accuracy: 0.4774 - val_loss: 1.5131 - val_accuracy: 0.4689\n",
            "Epoch 30/100\n",
            "313/313 [==============================] - 5s 16ms/step - loss: 1.4690 - accuracy: 0.4826 - val_loss: 1.5133 - val_accuracy: 0.4662\n",
            "Epoch 31/100\n",
            "313/313 [==============================] - 6s 18ms/step - loss: 1.4711 - accuracy: 0.4804 - val_loss: 1.5131 - val_accuracy: 0.4700\n",
            "Epoch 32/100\n",
            "313/313 [==============================] - 5s 15ms/step - loss: 1.4635 - accuracy: 0.4837 - val_loss: 1.5090 - val_accuracy: 0.4741\n",
            "Epoch 33/100\n",
            "313/313 [==============================] - 6s 20ms/step - loss: 1.4593 - accuracy: 0.4831 - val_loss: 1.5033 - val_accuracy: 0.4726\n",
            "Epoch 34/100\n",
            "313/313 [==============================] - 5s 15ms/step - loss: 1.4578 - accuracy: 0.4841 - val_loss: 1.5027 - val_accuracy: 0.4770\n",
            "Epoch 35/100\n",
            "313/313 [==============================] - 5s 16ms/step - loss: 1.4588 - accuracy: 0.4841 - val_loss: 1.5014 - val_accuracy: 0.4717\n",
            "Epoch 36/100\n",
            "313/313 [==============================] - 6s 18ms/step - loss: 1.4491 - accuracy: 0.4877 - val_loss: 1.4950 - val_accuracy: 0.4734\n",
            "Epoch 37/100\n",
            "313/313 [==============================] - 5s 16ms/step - loss: 1.4414 - accuracy: 0.4905 - val_loss: 1.4998 - val_accuracy: 0.4750\n",
            "Epoch 38/100\n",
            "313/313 [==============================] - 6s 20ms/step - loss: 1.4452 - accuracy: 0.4884 - val_loss: 1.5002 - val_accuracy: 0.4779\n",
            "Epoch 39/100\n",
            "313/313 [==============================] - 4s 14ms/step - loss: 1.4381 - accuracy: 0.4927 - val_loss: 1.4957 - val_accuracy: 0.4785\n",
            "Epoch 40/100\n",
            "313/313 [==============================] - 5s 16ms/step - loss: 1.4304 - accuracy: 0.4962 - val_loss: 1.4958 - val_accuracy: 0.4759\n",
            "Epoch 41/100\n",
            "313/313 [==============================] - 6s 19ms/step - loss: 1.4220 - accuracy: 0.4972 - val_loss: 1.4854 - val_accuracy: 0.4829\n",
            "Epoch 42/100\n",
            "313/313 [==============================] - 5s 16ms/step - loss: 1.4199 - accuracy: 0.4967 - val_loss: 1.4981 - val_accuracy: 0.4771\n",
            "Epoch 43/100\n",
            "313/313 [==============================] - 6s 19ms/step - loss: 1.4263 - accuracy: 0.4982 - val_loss: 1.4873 - val_accuracy: 0.4805\n",
            "Epoch 44/100\n",
            "313/313 [==============================] - 5s 16ms/step - loss: 1.4164 - accuracy: 0.4995 - val_loss: 1.4876 - val_accuracy: 0.4808\n",
            "Epoch 45/100\n",
            "313/313 [==============================] - 6s 19ms/step - loss: 1.4219 - accuracy: 0.4954 - val_loss: 1.4879 - val_accuracy: 0.4813\n",
            "Epoch 46/100\n",
            "313/313 [==============================] - 5s 17ms/step - loss: 1.4190 - accuracy: 0.4954 - val_loss: 1.4870 - val_accuracy: 0.4783\n"
          ]
        }
      ]
    },
    {
      "cell_type": "markdown",
      "source": [
        "## 2.2 Exercise\n",
        "Change the [activation function of the dense layers (except the last one)](https://www.tensorflow.org/api_docs/python/tf/keras/layers/Dense) to rectified linear unit (ReLU) and the [weight initialization](https://www.tensorflow.org/api_docs/python/tf/keras/initializers) to the theoretically best one. Use the original model's code.\n",
        "\n",
        "Compile and train the model. Inspect the effects of the modifications."
      ],
      "metadata": {
        "id": "zQCDM1o1BBtF"
      }
    },
    {
      "cell_type": "code",
      "source": [
        "# model definition with relu\n",
        "model = Sequential()\n",
        "model.add(Dense(128, activation='relu', kernel_initializer=HeNormal(), input_shape=(flattened_dim,)))\n",
        "model.add(Dense(128, activation='relu', kernel_initializer=HeNormal()))\n",
        "model.add(Dense(nb_classes, activation='softmax'))\n",
        "\n",
        "# loss function and optimizer\n",
        "model.compile(loss='categorical_crossentropy', optimizer='adam', metrics=['accuracy'])"
      ],
      "metadata": {
        "id": "YjHAAh-wGu9O"
      },
      "execution_count": 26,
      "outputs": []
    },
    {
      "cell_type": "code",
      "source": [
        "# training\n",
        "network_history = model.fit(X_train, Y_train,\n",
        "                            validation_data=(X_valid,Y_valid),\n",
        "                            batch_size=128,\n",
        "                            epochs=40,\n",
        "                            verbose=1)"
      ],
      "metadata": {
        "id": "rarwKM1wGxMz",
        "colab": {
          "base_uri": "https://localhost:8080/"
        },
        "outputId": "04be142c-4d16-4351-d5ad-26b7581719d6"
      },
      "execution_count": 27,
      "outputs": [
        {
          "output_type": "stream",
          "name": "stdout",
          "text": [
            "Epoch 1/40\n",
            "313/313 [==============================] - 7s 21ms/step - loss: 1.8400 - accuracy: 0.3790 - val_loss: 1.6964 - val_accuracy: 0.4131\n",
            "Epoch 2/40\n",
            "313/313 [==============================] - 5s 16ms/step - loss: 1.5410 - accuracy: 0.4634 - val_loss: 1.6030 - val_accuracy: 0.4399\n",
            "Epoch 3/40\n",
            "313/313 [==============================] - 5s 15ms/step - loss: 1.4167 - accuracy: 0.5064 - val_loss: 1.5759 - val_accuracy: 0.4550\n",
            "Epoch 4/40\n",
            "313/313 [==============================] - 6s 20ms/step - loss: 1.3266 - accuracy: 0.5329 - val_loss: 1.5276 - val_accuracy: 0.4806\n",
            "Epoch 5/40\n",
            "313/313 [==============================] - 5s 15ms/step - loss: 1.2563 - accuracy: 0.5576 - val_loss: 1.5273 - val_accuracy: 0.4769\n",
            "Epoch 6/40\n",
            "313/313 [==============================] - 6s 19ms/step - loss: 1.2021 - accuracy: 0.5786 - val_loss: 1.5296 - val_accuracy: 0.4783\n",
            "Epoch 7/40\n",
            "313/313 [==============================] - 5s 15ms/step - loss: 1.1481 - accuracy: 0.5974 - val_loss: 1.5342 - val_accuracy: 0.4864\n",
            "Epoch 8/40\n",
            "313/313 [==============================] - 5s 15ms/step - loss: 1.0980 - accuracy: 0.6145 - val_loss: 1.5416 - val_accuracy: 0.4871\n",
            "Epoch 9/40\n",
            "313/313 [==============================] - 6s 19ms/step - loss: 1.0593 - accuracy: 0.6274 - val_loss: 1.5449 - val_accuracy: 0.4979\n",
            "Epoch 10/40\n",
            "313/313 [==============================] - 5s 15ms/step - loss: 1.0039 - accuracy: 0.6467 - val_loss: 1.5647 - val_accuracy: 0.4973\n",
            "Epoch 11/40\n",
            "313/313 [==============================] - 6s 19ms/step - loss: 0.9590 - accuracy: 0.6607 - val_loss: 1.6275 - val_accuracy: 0.4948\n",
            "Epoch 12/40\n",
            "313/313 [==============================] - 5s 16ms/step - loss: 0.9206 - accuracy: 0.6738 - val_loss: 1.6516 - val_accuracy: 0.4877\n",
            "Epoch 13/40\n",
            "313/313 [==============================] - 5s 16ms/step - loss: 0.8840 - accuracy: 0.6897 - val_loss: 1.7054 - val_accuracy: 0.4899\n",
            "Epoch 14/40\n",
            "313/313 [==============================] - 6s 19ms/step - loss: 0.8545 - accuracy: 0.6980 - val_loss: 1.6993 - val_accuracy: 0.4989\n",
            "Epoch 15/40\n",
            "313/313 [==============================] - 5s 15ms/step - loss: 0.8168 - accuracy: 0.7095 - val_loss: 1.7398 - val_accuracy: 0.4911\n",
            "Epoch 16/40\n",
            "313/313 [==============================] - 6s 18ms/step - loss: 0.7824 - accuracy: 0.7238 - val_loss: 1.8486 - val_accuracy: 0.4825\n",
            "Epoch 17/40\n",
            "313/313 [==============================] - 5s 16ms/step - loss: 0.7482 - accuracy: 0.7370 - val_loss: 1.8458 - val_accuracy: 0.4920\n",
            "Epoch 18/40\n",
            "313/313 [==============================] - 5s 16ms/step - loss: 0.7140 - accuracy: 0.7491 - val_loss: 1.8825 - val_accuracy: 0.4902\n",
            "Epoch 19/40\n",
            "313/313 [==============================] - 6s 19ms/step - loss: 0.6850 - accuracy: 0.7606 - val_loss: 1.9629 - val_accuracy: 0.4878\n",
            "Epoch 20/40\n",
            "313/313 [==============================] - 5s 15ms/step - loss: 0.6636 - accuracy: 0.7680 - val_loss: 1.9883 - val_accuracy: 0.4862\n",
            "Epoch 21/40\n",
            "313/313 [==============================] - 6s 20ms/step - loss: 0.6306 - accuracy: 0.7778 - val_loss: 2.0661 - val_accuracy: 0.4821\n",
            "Epoch 22/40\n",
            "313/313 [==============================] - 5s 16ms/step - loss: 0.6057 - accuracy: 0.7865 - val_loss: 2.1142 - val_accuracy: 0.4772\n",
            "Epoch 23/40\n",
            "313/313 [==============================] - 5s 15ms/step - loss: 0.5833 - accuracy: 0.7966 - val_loss: 2.1296 - val_accuracy: 0.4885\n",
            "Epoch 24/40\n",
            "313/313 [==============================] - 7s 22ms/step - loss: 0.5504 - accuracy: 0.8092 - val_loss: 2.2117 - val_accuracy: 0.4875\n",
            "Epoch 25/40\n",
            "313/313 [==============================] - 5s 17ms/step - loss: 0.5331 - accuracy: 0.8136 - val_loss: 2.2994 - val_accuracy: 0.4840\n",
            "Epoch 26/40\n",
            "313/313 [==============================] - 6s 19ms/step - loss: 0.5187 - accuracy: 0.8174 - val_loss: 2.3278 - val_accuracy: 0.4813\n",
            "Epoch 27/40\n",
            "313/313 [==============================] - 5s 16ms/step - loss: 0.4918 - accuracy: 0.8315 - val_loss: 2.4381 - val_accuracy: 0.4763\n",
            "Epoch 28/40\n",
            "313/313 [==============================] - 5s 16ms/step - loss: 0.4798 - accuracy: 0.8303 - val_loss: 2.4806 - val_accuracy: 0.4880\n",
            "Epoch 29/40\n",
            "313/313 [==============================] - 6s 18ms/step - loss: 0.4617 - accuracy: 0.8393 - val_loss: 2.5102 - val_accuracy: 0.4790\n",
            "Epoch 30/40\n",
            "313/313 [==============================] - 5s 14ms/step - loss: 0.4387 - accuracy: 0.8475 - val_loss: 2.5591 - val_accuracy: 0.4810\n",
            "Epoch 31/40\n",
            "313/313 [==============================] - 6s 18ms/step - loss: 0.4229 - accuracy: 0.8522 - val_loss: 2.6452 - val_accuracy: 0.4772\n",
            "Epoch 32/40\n",
            "313/313 [==============================] - 5s 16ms/step - loss: 0.4142 - accuracy: 0.8571 - val_loss: 2.7126 - val_accuracy: 0.4747\n",
            "Epoch 33/40\n",
            "313/313 [==============================] - 5s 15ms/step - loss: 0.4018 - accuracy: 0.8597 - val_loss: 2.7884 - val_accuracy: 0.4702\n",
            "Epoch 34/40\n",
            "313/313 [==============================] - 6s 19ms/step - loss: 0.3794 - accuracy: 0.8675 - val_loss: 2.8502 - val_accuracy: 0.4752\n",
            "Epoch 35/40\n",
            "313/313 [==============================] - 5s 16ms/step - loss: 0.3765 - accuracy: 0.8683 - val_loss: 2.9141 - val_accuracy: 0.4699\n",
            "Epoch 36/40\n",
            "313/313 [==============================] - 6s 19ms/step - loss: 0.3614 - accuracy: 0.8745 - val_loss: 3.0654 - val_accuracy: 0.4657\n",
            "Epoch 37/40\n",
            "313/313 [==============================] - 5s 15ms/step - loss: 0.3467 - accuracy: 0.8792 - val_loss: 3.0815 - val_accuracy: 0.4775\n",
            "Epoch 38/40\n",
            "313/313 [==============================] - 5s 15ms/step - loss: 0.3246 - accuracy: 0.8860 - val_loss: 3.1543 - val_accuracy: 0.4731\n",
            "Epoch 39/40\n",
            "313/313 [==============================] - 6s 19ms/step - loss: 0.3135 - accuracy: 0.8901 - val_loss: 3.2521 - val_accuracy: 0.4760\n",
            "Epoch 40/40\n",
            "313/313 [==============================] - 5s 15ms/step - loss: 0.3284 - accuracy: 0.8856 - val_loss: 3.2793 - val_accuracy: 0.4693\n"
          ]
        }
      ]
    },
    {
      "cell_type": "markdown",
      "source": [
        "# 2.3. Exercise\n",
        "Based on the modifications above, and by any further modifications (e.g. more layers, less layers, more neurons/layer, etc.) to the model design, find a combination that is able to achieve **validation accuracy, that is higher than 53%**.\n"
      ],
      "metadata": {
        "id": "j1tGVPdD-pp3"
      }
    },
    {
      "cell_type": "code",
      "source": [
        "es = EarlyStopping(monitor='val_loss', restore_best_weights=True, patience=5)"
      ],
      "metadata": {
        "id": "5dBQxJHIHrbd"
      },
      "execution_count": 28,
      "outputs": []
    },
    {
      "cell_type": "code",
      "source": [
        "# model definition\n",
        "model = Sequential()\n",
        "model.add(Dense(128, activation='relu', kernel_initializer=HeNormal(), input_shape=(flattened_dim,)))\n",
        "model.add(Dropout(0.25))\n",
        "model.add(Dense(256, activation='relu', kernel_initializer=HeNormal()))\n",
        "model.add(Dropout(0.25))\n",
        "model.add(Dense(256, activation='relu', kernel_initializer=HeNormal()))\n",
        "model.add(Dropout(0.25))\n",
        "model.add(Dense(512, activation='relu', kernel_initializer=HeNormal()))\n",
        "model.add(Dense(nb_classes, activation='softmax'))\n",
        "\n",
        "# loss function and optimizer\n",
        "model.compile(loss='categorical_crossentropy', optimizer='adam', metrics=['accuracy'])"
      ],
      "metadata": {
        "id": "PuxHOqLt-3Nd"
      },
      "execution_count": 29,
      "outputs": []
    },
    {
      "cell_type": "code",
      "source": [
        "# training\n",
        "network_history = model.fit(X_train, Y_train,\n",
        "                            validation_data=(X_valid,Y_valid),\n",
        "                            batch_size=128,\n",
        "                            epochs=100,\n",
        "                            verbose=1,\n",
        "                            callbacks=[es])"
      ],
      "metadata": {
        "id": "u8tFNCNVHyt9",
        "colab": {
          "base_uri": "https://localhost:8080/"
        },
        "outputId": "a135162c-a46c-4198-9e0b-aba715687dd0"
      },
      "execution_count": 41,
      "outputs": [
        {
          "output_type": "stream",
          "name": "stdout",
          "text": [
            "Epoch 1/100\n",
            "313/313 [==============================] - 9s 27ms/step - loss: 1.2464 - accuracy: 0.5566 - val_loss: 1.3550 - val_accuracy: 0.5235\n",
            "Epoch 2/100\n",
            "313/313 [==============================] - 8s 26ms/step - loss: 1.2379 - accuracy: 0.5602 - val_loss: 1.3513 - val_accuracy: 0.5324\n",
            "Epoch 3/100\n",
            "313/313 [==============================] - 8s 24ms/step - loss: 1.2307 - accuracy: 0.5634 - val_loss: 1.3387 - val_accuracy: 0.5282\n",
            "Epoch 4/100\n",
            "313/313 [==============================] - 8s 26ms/step - loss: 1.2163 - accuracy: 0.5673 - val_loss: 1.3439 - val_accuracy: 0.5242\n",
            "Epoch 5/100\n",
            "313/313 [==============================] - 7s 22ms/step - loss: 1.2146 - accuracy: 0.5678 - val_loss: 1.3465 - val_accuracy: 0.5287\n",
            "Epoch 6/100\n",
            "313/313 [==============================] - 9s 30ms/step - loss: 1.2068 - accuracy: 0.5711 - val_loss: 1.3477 - val_accuracy: 0.5281\n",
            "Epoch 7/100\n",
            "313/313 [==============================] - 8s 26ms/step - loss: 1.1952 - accuracy: 0.5742 - val_loss: 1.3464 - val_accuracy: 0.5327\n",
            "Epoch 8/100\n",
            "313/313 [==============================] - 7s 23ms/step - loss: 1.1966 - accuracy: 0.5743 - val_loss: 1.3446 - val_accuracy: 0.5308\n"
          ]
        }
      ]
    },
    {
      "cell_type": "markdown",
      "source": [
        "# 3. Evaluation on test data and inference\n",
        "At this point, we will perform a basic evaluation and inference. With the model.evaluate function, the same metrics are calculated, that were used during training:"
      ],
      "metadata": {
        "id": "2FtKp-a2-A9m"
      }
    },
    {
      "cell_type": "code",
      "source": [
        "print(model.evaluate(X_test, Y_test))"
      ],
      "metadata": {
        "id": "I3_9wgDREUna",
        "colab": {
          "base_uri": "https://localhost:8080/"
        },
        "outputId": "2f9f3e2d-0f12-444d-ae89-11e4e3c81398"
      },
      "execution_count": 42,
      "outputs": [
        {
          "output_type": "stream",
          "name": "stdout",
          "text": [
            "313/313 [==============================] - 1s 5ms/step - loss: 1.3432 - accuracy: 0.5278\n",
            "[1.3431966304779053, 0.5278000235557556]\n"
          ]
        }
      ]
    },
    {
      "cell_type": "markdown",
      "source": [
        "we would like to see similar values, as in the validation set. If those are close to each other, then the generalization ability of the model is good (in case of an independent test-set)."
      ],
      "metadata": {
        "id": "ECHguBFtGL7f"
      }
    },
    {
      "cell_type": "markdown",
      "source": [
        "## 3.1. Exercise\n",
        "Predict the class of the first 10 elements in the test set, and compare the predicted values with the actual, target values in the test set. Hints:\n",
        "* you can use [model.predict](https://www.activestate.com/resources/quick-reads/how-to-use-a-model-to-do-predictions-with-keras/) for prediction\n",
        "* from the output you can select the largest value with the [argmax() function of Numpy](https://stackoverflow.com/questions/62358642/convert-one-hot-encoding-back-to-number-label). As there are multiple values, you have to call it with axis=1 parameter.\n",
        "* it is enought to compare the predictions and the targets by printing the values out and inspecting them."
      ],
      "metadata": {
        "id": "0Io4zYJeHjz6"
      }
    },
    {
      "cell_type": "code",
      "source": [
        "preds = model.predict(X_test)\n",
        "preds_dense = np.argmax(preds, axis = 1)\n",
        "print(Y_test[:10])\n",
        "print(preds_dense[:10])"
      ],
      "metadata": {
        "id": "XEEyU7exILqF",
        "colab": {
          "base_uri": "https://localhost:8080/"
        },
        "outputId": "8a3a31ab-0166-48f7-8168-f948c56e7c22"
      },
      "execution_count": 43,
      "outputs": [
        {
          "output_type": "stream",
          "name": "stdout",
          "text": [
            "313/313 [==============================] - 2s 7ms/step\n",
            "[[0. 0. 0. 1. 0. 0. 0. 0. 0. 0.]\n",
            " [0. 0. 0. 0. 0. 0. 0. 0. 1. 0.]\n",
            " [0. 0. 0. 0. 0. 0. 0. 0. 1. 0.]\n",
            " [1. 0. 0. 0. 0. 0. 0. 0. 0. 0.]\n",
            " [0. 0. 0. 0. 0. 0. 1. 0. 0. 0.]\n",
            " [0. 0. 0. 0. 0. 0. 1. 0. 0. 0.]\n",
            " [0. 1. 0. 0. 0. 0. 0. 0. 0. 0.]\n",
            " [0. 0. 0. 0. 0. 0. 1. 0. 0. 0.]\n",
            " [0. 0. 0. 1. 0. 0. 0. 0. 0. 0.]\n",
            " [0. 1. 0. 0. 0. 0. 0. 0. 0. 0.]]\n",
            "[3 8 8 8 4 6 3 6 5 1]\n"
          ]
        }
      ]
    },
    {
      "cell_type": "markdown",
      "source": [
        "Before comparision, you have to convert back the one-hot encoded target values the same way, as you converted the output of the neural network to class values with argmax() function."
      ],
      "metadata": {
        "id": "seZTEFI-I5cZ"
      }
    },
    {
      "cell_type": "code",
      "source": [
        "print(\"Target labels:   \", np.argmax(Y_test[:10],axis=1))\n",
        "print(\"Predicted labels:\", preds_dense[:10])"
      ],
      "metadata": {
        "id": "PHLvoMuIIkJ6",
        "colab": {
          "base_uri": "https://localhost:8080/"
        },
        "outputId": "fe48e6cc-e14a-4401-93ab-62ec05fd6e91"
      },
      "execution_count": 45,
      "outputs": [
        {
          "output_type": "stream",
          "name": "stdout",
          "text": [
            "Target labels:    [3 8 8 0 6 6 1 6 3 1]\n",
            "Predicted labels: [3 8 8 8 4 6 3 6 5 1]\n"
          ]
        }
      ]
    }
  ]
}